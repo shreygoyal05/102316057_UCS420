{
 "cells": [
  {
   "cell_type": "markdown",
   "metadata": {},
   "source": [
    "# CC Assignment 2 \n"
   ]
  },
  {
   "cell_type": "markdown",
   "metadata": {},
   "source": [
    "Q1"
   ]
  },
  {
   "cell_type": "code",
   "execution_count": null,
   "metadata": {},
   "outputs": [
    {
     "name": "stdout",
     "output_type": "stream",
     "text": [
      "List in ascending order: [20, 40, 50, 60, 70, 80, 200, 200, 300, 300]\n",
      "List in descending order: [300, 300, 200, 200, 80, 70, 60, 50, 40, 20]\n"
     ]
    }
   ],
   "source": [
    "L = [10, 20, 30, 40, 50, 60, 70, 80,]\n",
    "\n",
    "#L.append(98)\n",
    "L.append(200)\n",
    "L.append(200)\n",
    "L.append(300)\n",
    "L.append(300)\n",
    "\n",
    "\n",
    "L.remove(10)\n",
    "L.remove(30)\n",
    "\n",
    "L.sort()\n",
    "print(\"List in ascending order:\", L)\n",
    "\n",
    "L.sort(reverse=True)\n",
    "print(\"List in descending order:\", L)\n"
   ]
  },
  {
   "cell_type": "markdown",
   "metadata": {},
   "source": [
    "Q2"
   ]
  },
  {
   "cell_type": "code",
   "execution_count": null,
   "metadata": {},
   "outputs": [
    {
     "name": "stdout",
     "output_type": "stream",
     "text": [
      "Highest score: 92, Index: 5\n",
      "Lowest score: 45, Count: 2\n",
      "Reversed tuple as list: [45, 58, 92, 89, 45.4, 76, 89.5, 45]\n",
      "Score 58 is present at index: 6\n"
     ]
    }
   ],
   "source": [
    "scores = (45, 89.5, 76, 45.4, 89, 92, 58, 45)\n",
    "\n",
    "max_score = max(scores)\n",
    "max_index = scores.index(max_score)\n",
    "print(f\"Highest score: {max_score}, Index: {max_index}\")\n",
    "\n",
    "lowest_score = min(scores)\n",
    "lowest_count = scores.count(lowest_score)\n",
    "print(f\"Lowest score: {lowest_score}, Count: {lowest_count}\")\n",
    "\n",
    "reversed_list = list(scores[::-1])\n",
    "print(f\"Reversed tuple as list: {reversed_list}\")\n",
    "\n",
    "user_score = int(input(\"Enter the score to check: \"))\n",
    "if user_score in scores:\n",
    "    first_occurrence_index = scores.index(user_score)\n",
    "    print(f\"Score {user_score} is present at index: {first_occurrence_index}\")\n",
    "else:\n",
    "    print(f\"Score {user_score} is not present in the tuple.\")\n",
    "\n",
    "\n"
   ]
  },
  {
   "cell_type": "markdown",
   "metadata": {},
   "source": [
    "Q3"
   ]
  },
  {
   "cell_type": "code",
   "execution_count": null,
   "metadata": {},
   "outputs": [
    {
     "name": "stdout",
     "output_type": "stream",
     "text": [
      "Odd numbers (46): [397, 325, 241, 597, 135, 125, 603, 489, 673, 459, 199, 631, 383, 367, 803, 325, 827, 291, 675, 567, 273, 389, 885, 869, 281, 395, 853, 721, 293, 763, 719, 529, 741, 349, 713, 457, 507, 541, 179, 151, 149, 711, 767, 689, 517, 127]\n",
      "Even numbers (54): [624, 176, 774, 250, 468, 564, 608, 296, 698, 580, 304, 864, 582, 558, 500, 248, 748, 880, 610, 624, 532, 850, 154, 674, 730, 630, 470, 316, 670, 196, 736, 550, 306, 786, 368, 414, 214, 574, 896, 320, 556, 446, 796, 794, 508, 148, 694, 636, 390, 306, 656, 370, 314, 764]\n",
      "Prime numbers (20): [397, 241, 673, 199, 631, 383, 367, 827, 389, 281, 853, 293, 719, 349, 457, 541, 179, 151, 149, 127]\n"
     ]
    }
   ],
   "source": [
    "import random\n",
    "random_numbers = [random.randint(100,900) for _ in range(100)]\n",
    "\n",
    "def is_prime(num):\n",
    "    if num < 2:\n",
    "        return False\n",
    "    for i in range(2, int(num ** 0.5) + 1):\n",
    "        if num % i == 0:\n",
    "            return False\n",
    "    return True\n",
    "\n",
    "odd_numbers = [num for num in random_numbers if num % 2 != 0]\n",
    "print(f\"Odd numbers ({len(odd_numbers)}): {odd_numbers}\")\n",
    "\n",
    "even_numbers = [num for num in random_numbers if num % 2 == 0]\n",
    "print(f\"Even numbers ({len(even_numbers)}): {even_numbers}\")\n",
    "\n",
    "prime_numbers = [num for num in random_numbers if is_prime(num)]\n",
    "print(f\"Prime numbers ({len(prime_numbers)}): {prime_numbers}\")"
   ]
  },
  {
   "cell_type": "markdown",
   "metadata": {},
   "source": [
    "Q4\n"
   ]
  },
  {
   "cell_type": "code",
   "execution_count": null,
   "metadata": {},
   "outputs": [
    {
     "name": "stdout",
     "output_type": "stream",
     "text": [
      "Unique scores (Union): {34, 45, 78, 23, 56, 90}\n",
      "Common scores (Intersection): {90, 78}\n",
      "Exclusive scores (Symmetric Difference): {34, 45, 23, 56}\n",
      "Is A a subset of B? False\n",
      "Is B a superset of A? False\n",
      "Score 34 removed from set A. Updated set A: {56, 90, 78}\n"
     ]
    }
   ],
   "source": [
    "A = {34, 56, 78, 90}\n",
    "B = {78, 45, 90, 23}\n",
    "\n",
    "unique_scores = A.union(B)\n",
    "print(f\"Unique scores (Union): {unique_scores}\")\n",
    "\n",
    "common_scores = A.intersection(B)\n",
    "print(f\"Common scores (Intersection): {common_scores}\")\n",
    "\n",
    "exclusive_scores = A.symmetric_difference(B)\n",
    "print(f\"Exclusive scores (Symmetric Difference): {exclusive_scores}\")\n",
    "\n",
    "is_A_subset_B = A.issubset(B)\n",
    "is_B_superset_A = B.issuperset(A)\n",
    "print(f\"Is A a subset of B? {is_A_subset_B}\")\n",
    "print(f\"Is B a superset of A? {is_B_superset_A}\")\n",
    "\n",
    "X = int(input(\"Enter a score to remove from set A: \"))\n",
    "if X in A:\n",
    "    A.remove(X)\n",
    "    print(f\"Score {X} removed from set A. Updated set A: {A}\")\n",
    "else:\n",
    "    print(f\"Score {X} is not present in set A.\")\n"
   ]
  },
  {
   "cell_type": "markdown",
   "metadata": {},
   "source": [
    "Q5"
   ]
  },
  {
   "cell_type": "code",
   "execution_count": null,
   "metadata": {},
   "outputs": [
    {
     "name": "stdout",
     "output_type": "stream",
     "text": [
      "{'name': 'Kelly', 'age': 25, 'salary': 8000, 'location': 'New York'}\n"
     ]
    }
   ],
   "source": [
    "sample_dict = {\n",
    "    \"name\": \"Kelly\",\n",
    "    \"age\": 25,\n",
    "    \"salary\": 8000,\n",
    "    \"city\": \"New York\"\n",
    "}\n",
    "\n",
    "sample_dict[\"location\"] = sample_dict.pop(\"city\")\n",
    "\n",
    "print(sample_dict)\n",
    "\n",
    "\n",
    "\n"
   ]
  }
 ],
 "metadata": {
  "language_info": {
   "name": "python"
  }
 },
 "nbformat": 4,
 "nbformat_minor": 2
}
