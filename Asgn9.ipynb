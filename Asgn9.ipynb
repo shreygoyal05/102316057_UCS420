{
 "cells": [
  {
   "cell_type": "markdown",
   "id": "5792f8b5",
   "metadata": {},
   "source": [
    "# Assignemnt 9   -   NLP using Python"
   ]
  },
  {
   "cell_type": "markdown",
   "id": "ee00bc4b",
   "metadata": {},
   "source": [
    "Q1. Write a unique paragraph (5-6 sentences) about your favorite topic (e.g., sports,\n",
    "technology, food, books, etc.).\n",
    "1. Convert text to lowercase and remove punctuaƟon.\n",
    "2. Tokenize the text into words and sentences.\n",
    "3. Remove stopwords (using NLTK's stopwords list).\n",
    "4. Display word frequency distribuƟon (excluding stopwords)."
   ]
  },
  {
   "cell_type": "code",
   "execution_count": 7,
   "id": "71a1e0cb",
   "metadata": {},
   "outputs": [
    {
     "name": "stderr",
     "output_type": "stream",
     "text": [
      "[nltk_data] Downloading package punkt_tab to\n",
      "[nltk_data]     C:\\Users\\shrey\\AppData\\Roaming\\nltk_data...\n",
      "[nltk_data]   Unzipping tokenizers\\punkt_tab.zip.\n"
     ]
    },
    {
     "data": {
      "text/plain": [
       "True"
      ]
     },
     "execution_count": 7,
     "metadata": {},
     "output_type": "execute_result"
    }
   ],
   "source": [
    "\n",
    "\n",
    "nltk.download('punkt_tab')\n",
    "\n"
   ]
  },
  {
   "cell_type": "code",
   "execution_count": null,
   "id": "b9a1cf19",
   "metadata": {},
   "outputs": [
    {
     "name": "stdout",
     "output_type": "stream",
     "text": [
      "Original Paragraph: \n",
      "The stock market is a dynamic financial marketplace where investors buy and sell shares of publicly traded companies.\n",
      "It plays a crucial role in the economy by allowing businesses to raise capital for expansion and operations, while giving individuals and institutions the opportunity to invest and potentially earn returns.\n",
      "Market performance is influenced by various factors including economic indicators, corporate earnings, interest rates, and geopolitical events.\n",
      "While the market can offer significant rewards, it also carries risks, making it essential for investors to conduct research and adopt informed strategies.\n",
      "Overall, the stock market reflects investor sentiment and serves as a barometer for economic health.\n",
      "\n",
      "Cleaned Text: \n",
      "the stock market is a dynamic financial marketplace where investors buy and sell shares of publicly traded companies\n",
      "it plays a crucial role in the economy by allowing businesses to raise capital for expansion and operations while giving individuals and institutions the opportunity to invest and potentially earn returns\n",
      "market performance is influenced by various factors including economic indicators corporate earnings interest rates and geopolitical events\n",
      "while the market can offer significant rewards it also carries risks making it essential for investors to conduct research and adopt informed strategies\n",
      "overall the stock market reflects investor sentiment and serves as a barometer for economic health\n",
      "\n",
      "Number of sentences: 5\n",
      "Sentences:\n",
      "1. The stock market is a dynamic financial marketplace where investors buy and sell shares of publicly traded companies.\n",
      "2. It plays a crucial role in the economy by allowing businesses to raise capital for expansion and operations, while giving individuals and institutions the opportunity to invest and potentially earn returns.\n",
      "3. Market performance is influenced by various factors including economic indicators, corporate earnings, interest rates, and geopolitical events.\n",
      "4. While the market can offer significant rewards, it also carries risks, making it essential for investors to conduct research and adopt informed strategies.\n",
      "5. Overall, the stock market reflects investor sentiment and serves as a barometer for economic health.\n",
      "\n",
      "Number of words: 104\n",
      "First 15 tokens: ['the', 'stock', 'market', 'is', 'a', 'dynamic', 'financial', 'marketplace', 'where', 'investors', 'buy', 'and', 'sell', 'shares', 'of']\n"
     ]
    }
   ],
   "source": [
    "import nltk\n",
    "import string\n",
    "import re\n",
    "from nltk.tokenize import word_tokenize, sent_tokenize\n",
    "\n",
    "\n",
    "paragraph = \"\"\"The stock market is a dynamic financial marketplace where investors buy and sell shares of publicly traded companies.\n",
    "It plays a crucial role in the economy by allowing businesses to raise capital for expansion and operations, while giving individuals and institutions the opportunity to invest and potentially earn returns.\n",
    "Market performance is influenced by various factors including economic indicators, corporate earnings, interest rates, and geopolitical events.\n",
    "While the market can offer significant rewards, it also carries risks, making it essential for investors to conduct research and adopt informed strategies.\n",
    "Overall, the stock market reflects investor sentiment and serves as a barometer for economic health.\"\"\"\n",
    "\n",
    "print(\"Original Paragraph: \")\n",
    "print(paragraph)\n",
    "\n",
    "def clean_text(text):\n",
    "    text = text.lower()\n",
    "    text = text.translate(str.maketrans('', '', string.punctuation))\n",
    "    return text\n",
    "\n",
    "cleaned_para = clean_text(paragraph)\n",
    "print(f\"\\nCleaned Text: \\n{cleaned_para}\")\n",
    "\n",
    "sentences = sent_tokenize(paragraph)\n",
    "words = word_tokenize(cleaned_para)\n",
    "\n",
    "print(f\"\\nNumber of sentences: {len(sentences)}\")\n",
    "print(\"Sentences:\")\n",
    "for i, sentence in enumerate(sentences, 1):\n",
    "    print(f\"{i}. {sentence}\")\n",
    "\n",
    "print(f\"\\nNumber of words: {len(words)}\")\n",
    "print(f\"First 15 tokens: {words[:15]}\")\n"
   ]
  },
  {
   "cell_type": "markdown",
   "id": "bdae4977",
   "metadata": {},
   "source": [
    "Q2: Stemming and LemmaƟzaƟon\n",
    "1. Take the tokenized words from QuesƟon 1 (aŌer stopword removal).\n",
    "2. Apply stemming using NLTK's PorterStemmer and LancasterStemmer.\n",
    "3. Apply lemmaƟzaƟon using NLTK's WordNetLemmaƟzer.\n",
    "4. Compare and display results of both techniques."
   ]
  },
  {
   "cell_type": "code",
   "execution_count": 9,
   "id": "4b4f6c68",
   "metadata": {},
   "outputs": [
    {
     "name": "stderr",
     "output_type": "stream",
     "text": [
      "[nltk_data] Downloading package punkt to\n",
      "[nltk_data]     C:\\Users\\shrey\\AppData\\Roaming\\nltk_data...\n",
      "[nltk_data]   Package punkt is already up-to-date!\n",
      "[nltk_data] Downloading package stopwords to\n",
      "[nltk_data]     C:\\Users\\shrey\\AppData\\Roaming\\nltk_data...\n",
      "[nltk_data]   Package stopwords is already up-to-date!\n",
      "[nltk_data] Downloading package wordnet to\n",
      "[nltk_data]     C:\\Users\\shrey\\AppData\\Roaming\\nltk_data...\n",
      "[nltk_data] Downloading package omw-1.4 to\n",
      "[nltk_data]     C:\\Users\\shrey\\AppData\\Roaming\\nltk_data...\n"
     ]
    },
    {
     "data": {
      "text/plain": [
       "True"
      ]
     },
     "execution_count": 9,
     "metadata": {},
     "output_type": "execute_result"
    }
   ],
   "source": [
    "import nltk\n",
    "nltk.download('punkt')\n",
    "nltk.download('stopwords')\n",
    "nltk.download('wordnet')\n",
    "nltk.download('omw-1.4')\n"
   ]
  },
  {
   "cell_type": "code",
   "execution_count": 10,
   "id": "570129d3",
   "metadata": {},
   "outputs": [
    {
     "name": "stdout",
     "output_type": "stream",
     "text": [
      "\n",
      "Filtered Tokens (after stopword removal):\n",
      "['stock', 'market', 'dynamic', 'financial', 'marketplace', 'investors', 'buy', 'sell', 'shares', 'publicly', 'traded', 'companies', 'plays', 'crucial', 'role']\n",
      "\n",
      "Word\t\tPorter\t\tLancaster\tLemmatized\n",
      "------------------------------------------------------------\n",
      "stock     \tstock     \tstock     \tstock\n",
      "market    \tmarket    \tmarket    \tmarket\n",
      "dynamic   \tdynam     \tdynam     \tdynamic\n",
      "financial \tfinanci   \tfin       \tfinancial\n",
      "marketplace\tmarketplac\tmarketplac\tmarketplace\n",
      "investors \tinvestor  \tinvest    \tinvestor\n",
      "buy       \tbuy       \tbuy       \tbuy\n",
      "sell      \tsell      \tsel       \tsell\n",
      "shares    \tshare     \tshar      \tshare\n",
      "publicly  \tpublicli  \tpubl      \tpublicly\n",
      "traded    \ttrade     \ttrad      \ttraded\n",
      "companies \tcompani   \tcompany   \tcompany\n",
      "plays     \tplay      \tplay      \tplay\n",
      "crucial   \tcrucial   \tcruc      \tcrucial\n",
      "role      \trole      \trol       \trole\n"
     ]
    }
   ],
   "source": [
    "import nltk\n",
    "import string\n",
    "from nltk.tokenize import word_tokenize, sent_tokenize\n",
    "from nltk.corpus import stopwords\n",
    "from nltk.stem import PorterStemmer, LancasterStemmer, WordNetLemmatizer\n",
    "\n",
    "paragraph = \"\"\"The stock market is a dynamic financial marketplace where investors buy and sell shares of publicly traded companies.\n",
    "It plays a crucial role in the economy by allowing businesses to raise capital for expansion and operations, while giving individuals and institutions the opportunity to invest and potentially earn returns.\n",
    "Market performance is influenced by various factors including economic indicators, corporate earnings, interest rates, and geopolitical events.\n",
    "While the market can offer significant rewards, it also carries risks, making it essential for investors to conduct research and adopt informed strategies.\n",
    "Overall, the stock market reflects investor sentiment and serves as a barometer for economic health.\"\"\"\n",
    "\n",
    "def clean_text(text):\n",
    "    text = text.lower()\n",
    "    text = text.translate(str.maketrans('', '', string.punctuation))\n",
    "    return text\n",
    "\n",
    "cleaned_para = clean_text(paragraph)\n",
    "\n",
    "tokens = word_tokenize(cleaned_para)\n",
    "\n",
    "stop_words = set(stopwords.words('english'))\n",
    "filtered_tokens = [word for word in tokens if word not in stop_words]\n",
    "\n",
    "print(f\"\\nFiltered Tokens (after stopword removal):\\n{filtered_tokens[:15]}\")  # Display first 15 tokens\n",
    "\n",
    "porter = PorterStemmer()\n",
    "lancaster = LancasterStemmer()\n",
    "\n",
    "porter_stemmed = [porter.stem(word) for word in filtered_tokens]\n",
    "lancaster_stemmed = [lancaster.stem(word) for word in filtered_tokens]\n",
    "\n",
    "lemmatizer = WordNetLemmatizer()\n",
    "lemmatized = [lemmatizer.lemmatize(word) for word in filtered_tokens]\n",
    "\n",
    "print(\"\\nWord\\t\\tPorter\\t\\tLancaster\\tLemmatized\")\n",
    "print(\"-\" * 60)\n",
    "for i in range(min(15, len(filtered_tokens))):\n",
    "    word = filtered_tokens[i]\n",
    "    print(f\"{word:<10}\\t{porter_stemmed[i]:<10}\\t{lancaster_stemmed[i]:<10}\\t{lemmatized[i]}\")\n"
   ]
  },
  {
   "cell_type": "markdown",
   "id": "faaa4cd7",
   "metadata": {},
   "source": [
    "Q3. Regular Expressions and Text Spliƫng\n",
    "1. Take their original text from QuesƟon 1.\n",
    "2. Use regular expressions to:\n",
    "a. Extract all words with more than 5 leƩers.\n",
    "b. Extract all numbers (if any exist in their text).\n",
    "c. Extract all capitalized words.\n",
    "3. Use text spliƫng techniques to:\n",
    "a. Split the text into words containing only alphabets (removing digits and special\n",
    "characters).\n",
    "b. Extract words starƟng with a vowel.\n"
   ]
  },
  {
   "cell_type": "code",
   "execution_count": null,
   "id": "6d093f17",
   "metadata": {},
   "outputs": [
    {
     "name": "stdout",
     "output_type": "stream",
     "text": [
      "Words with more than 5 letters:\n",
      "['system', 'essential', 'amplifies', 'distributes', 'various', 'environments', 'entertainment', 'public', 'events', 'enhancing', 'listening', 'experience', 'delivering', 'balanced', 'immersive']\n",
      "\n",
      "Numbers in text: None found\n",
      "\n",
      "Capitalized Words:\n",
      "['A', 'It', 'Sound', 'While', 'Overall']\n",
      "\n",
      "Words with only alphabets:\n",
      "['A', 'sound', 'system', 'is', 'an', 'essential', 'setup', 'that', 'amplifies', 'and', 'distributes', 'audio', 'for', 'various', 'environments']\n",
      "\n",
      "Words starting with a vowel:\n",
      "['A', 'is', 'an', 'essential', 'amplifies', 'and', 'audio', 'environments', 'entertainment', 'events', 'It', 'a', 'in', 'enhancing', 'experience']\n"
     ]
    }
   ],
   "source": [
    "import re\n",
    "\n",
    "paragraph = \"\"\"A sound system is an essential setup that amplifies and distributes audio for various environments, from home entertainment to large-scale public events.\n",
    "It plays a vital role in enhancing the listening experience by delivering clear, balanced, and immersive sound through speakers, amplifiers, and other components.\n",
    "Sound quality is influenced by multiple factors including speaker design, room acoustics, amplifier power, and signal processing.\n",
    "While a high-end system can provide exceptional audio performance, it also requires careful configuration and maintenance to achieve optimal results.\n",
    "Overall, a well-designed sound system reflects the listener's preferences and serves as a key element in any audio-visual experience.\"\"\"\n",
    "\n",
    "words_over_5_letters = re.findall(r'\\b[a-zA-Z]{6,}\\b', paragraph)\n",
    "print(f\"Words with more than 5 letters:\\n{words_over_5_letters[:15]}\")\n",
    "\n",
    "numbers = re.findall(r'\\b\\d+\\b', paragraph)\n",
    "print(f\"\\nNumbers in text: {numbers if numbers else 'None found'}\")\n",
    "\n",
    "capitalized_words = re.findall(r'\\b[A-Z][a-zA-Z]*\\b', paragraph)\n",
    "print(f\"\\nCapitalized Words:\\n{capitalized_words}\")\n",
    "\n",
    "alphabetic_words = re.findall(r'\\b[a-zA-Z]+\\b', paragraph)\n",
    "print(f\"\\nWords with only alphabets:\\n{alphabetic_words[:15]}\")\n",
    "\n",
    "vowel_words = re.findall(r'\\b[aeiouAEIOU][a-zA-Z]*\\b', paragraph)\n",
    "print(f\"\\nWords starting with a vowel:\\n{vowel_words[:15]}\")\n"
   ]
  },
  {
   "cell_type": "markdown",
   "id": "becbd88a",
   "metadata": {},
   "source": [
    "Q4. Custom TokenizaƟon & Regex-based Text Cleaning\n",
    "1. Take original text from QuesƟon 1.\n",
    "2. Write a custom tokenizaƟon funcƟon that:\n",
    "a. Removes punctuaƟon and special symbols, but keeps contracƟons (e.g.,\n",
    "\"isn't\" should not be split into \"is\" and \"n't\").\n",
    "b. Handles hyphenated words as a single token (e.g., \"state-of-the-art\" remains\n",
    "a single token).\n",
    "c. Tokenizes numbers separately but keeps decimal numbers intact (e.g., \"3.14\"\n",
    "should remain as is).\n",
    "\n",
    "3. Use Regex SubsƟtuƟons (re.sub) to:\n",
    "a. Replace email addresses with '<EMAIL>' placeholder.\n",
    "b. Replace URLs with '<URL>' placeholder.\n",
    "c. Replace phone numbers (formats: 123-456-7890 or +91 9876543210) with\n",
    "'<PHONE>' placeholder."
   ]
  },
  {
   "cell_type": "code",
   "execution_count": 12,
   "id": "8fc22586",
   "metadata": {},
   "outputs": [
    {
     "name": "stdout",
     "output_type": "stream",
     "text": [
      "Custom Tokens:\n",
      "['The', 'stock', 'market', 'is', 'a', 'dynamic', 'financial', 'marketplace', 'where', 'investors', 'buy', 'and', 'sell', 'shares', 'of', 'publicly', 'traded', 'companies', 'It', 'plays']\n",
      "\n",
      "Cleaned Text:\n",
      "The stock market is a dynamic financial marketplace where investors buy and sell shares of publicly traded companies.\n",
      "It plays a crucial role in the economy by allowing businesses to raise capital for expansion and operations, while giving individuals and institutions the opportunity to invest and potentially earn returns.\n",
      "Market performance is influenced by various factors including economic indicators, corporate earnings, interest rates, and geopolitical events.\n",
      "While the market can offer significant rewards, it also carries risks, making it essential for investors to conduct research and adopt informed strategies.\n",
      "Overall, the stock market reflects investor sentiment and serves as a barometer for economic health.\n",
      "Contact us at <EMAIL> or visit <URL>\n",
      "For assistance, call <PHONE> or <PHONE>.\n"
     ]
    }
   ],
   "source": [
    "import re\n",
    "\n",
    "paragraph = \"\"\"The stock market is a dynamic financial marketplace where investors buy and sell shares of publicly traded companies.\n",
    "It plays a crucial role in the economy by allowing businesses to raise capital for expansion and operations, while giving individuals and institutions the opportunity to invest and potentially earn returns.\n",
    "Market performance is influenced by various factors including economic indicators, corporate earnings, interest rates, and geopolitical events.\n",
    "While the market can offer significant rewards, it also carries risks, making it essential for investors to conduct research and adopt informed strategies.\n",
    "Overall, the stock market reflects investor sentiment and serves as a barometer for economic health.\n",
    "Contact us at info@marketnews.com or visit https://www.marketnews.com.\n",
    "For assistance, call +91 9876543210 or 123-456-7890.\"\"\"\n",
    "\n",
    "def custom_tokenize(text):\n",
    "    pattern = r\"\\b(?:\\d+\\.\\d+|\\w+(?:-\\w+)*|'\\w+)\\b\"\n",
    "    return re.findall(pattern, text)\n",
    "\n",
    "tokens = custom_tokenize(paragraph)\n",
    "print(f\"Custom Tokens:\\n{tokens[:20]}\")\n",
    "\n",
    "cleaned_text = re.sub(r'\\b[\\w\\.-]+@[\\w\\.-]+\\.\\w{2,4}\\b', '<EMAIL>', paragraph)\n",
    "cleaned_text = re.sub(r'https?://\\S+|www\\.\\S+', '<URL>', cleaned_text)\n",
    "cleaned_text = re.sub(r'(\\+?\\d{1,3}[-\\s]?)?\\d{3}[-\\s]?\\d{3}[-\\s]?\\d{4}', '<PHONE>', cleaned_text)\n",
    "\n",
    "print(f\"\\nCleaned Text:\\n{cleaned_text}\")\n"
   ]
  }
 ],
 "metadata": {
  "kernelspec": {
   "display_name": "Python 3",
   "language": "python",
   "name": "python3"
  },
  "language_info": {
   "codemirror_mode": {
    "name": "ipython",
    "version": 3
   },
   "file_extension": ".py",
   "mimetype": "text/x-python",
   "name": "python",
   "nbconvert_exporter": "python",
   "pygments_lexer": "ipython3",
   "version": "3.11.9"
  }
 },
 "nbformat": 4,
 "nbformat_minor": 5
}
