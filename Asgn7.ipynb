{
 "cells": [
  {
   "cell_type": "markdown",
   "id": "a24453c5",
   "metadata": {},
   "source": [
    "# Assignement 7\n"
   ]
  },
  {
   "cell_type": "markdown",
   "id": "eb06e6c2",
   "metadata": {},
   "source": [
    "Part I: Randomized Sales Data GeneraƟon (NumPy)\n",
    "1. IniƟalize Random Seed\n",
    "2. Generate Sales Data\n",
    " Create a NumPy array of random sales data for 12 months (shape = (12, 4)),\n",
    "where each column represents a product category:\n",
    " Electronics, Clothing, Home & Kitchen, Sports.\n",
    " Sales values should be between 1000 and 5000 units per month.\n",
    " The range should be randomized using the seed.\n",
    "3. Convert to DataFrame\n",
    " Convert the cleaned NumPy array into a Pandas DataFrame with:\n",
    "i. Columns: Electronics, Clothing, Home & Kitchen, Sports\n",
    "ii. Index: Months from Jan to Dec"
   ]
  },
  {
   "cell_type": "code",
   "execution_count": 1,
   "id": "f623ba29",
   "metadata": {},
   "outputs": [
    {
     "name": "stdout",
     "output_type": "stream",
     "text": [
      "Sales DataFrame:\n",
      "     Electronics  Clothing  Home & Kitchen  Sports\n",
      "Jan         1563      1236            1620    1097\n",
      "Feb         1280      1741            3249    3571\n",
      "Mar         2355      3645            2068    1368\n",
      "Apr         1535      2635            1975    1775\n",
      "May         3307      2264            1671    2973\n",
      "Jun         2518      2084            2030    2074\n",
      "Jul         3072      2548            1484    2054\n",
      "Aug         2768      1509            1931    3256\n",
      "Sep         1816      2436            2685    1571\n",
      "Oct         1203      2437            3069    2039\n",
      "Nov         1549      1918            2909    3280\n",
      "Dec         3720      1837            3306    1210\n"
     ]
    }
   ],
   "source": [
    "# Import necessary libraries\n",
    "import numpy as np\n",
    "import pandas as pd\n",
    "\n",
    "# Step 1: Initialize Random Seed\n",
    "# Replace this with your actual roll number\n",
    "ROLL_NUMBER = 123456\n",
    "np.random.seed(ROLL_NUMBER)\n",
    "\n",
    "# Step 2: Generate Sales Data\n",
    "# Randomly choose min and max values for sales between 1000 and 5000\n",
    "sales_min = np.random.randint(1000, 3000)\n",
    "sales_max = np.random.randint(3001, 5001)\n",
    "\n",
    "# Generate a NumPy array with shape (12, 4) for 12 months and 4 product categories\n",
    "sales_data = np.random.randint(sales_min, sales_max, size=(12, 4))\n",
    "\n",
    "# Step 3: Convert to DataFrame\n",
    "columns = ['Electronics', 'Clothing', 'Home & Kitchen', 'Sports']\n",
    "months = ['Jan', 'Feb', 'Mar', 'Apr', 'May', 'Jun',\n",
    "          'Jul', 'Aug', 'Sep', 'Oct', 'Nov', 'Dec']\n",
    "\n",
    "sales_df = pd.DataFrame(sales_data, columns=columns, index=months)\n",
    "\n",
    "# Display the final DataFrame\n",
    "print(\"Sales DataFrame:\")\n",
    "print(sales_df)\n"
   ]
  },
  {
   "cell_type": "markdown",
   "id": "8b9c5827",
   "metadata": {},
   "source": [
    "Part II: Data ManipulaƟon and Analysis (Pandas)\n",
    "1. Display the first 5 rows and summary staƟsƟcs of the DataFrame.\n",
    "2. Calculate the total sales per category and total sales per month.\n",
    "3. Calculate the average sales growth between consecuƟve months for each category.\n",
    "4. Add the following columns to the DataFrame:\n",
    " Total Sales: Sum of all categories per month.\n",
    " Growth Rate: Percentage change in Total Sales from the previous month.\n",
    "5. Apply a randomized discount:\n",
    " If your roll number is even, apply a 10% discount to the Electronics category.\n",
    "\n",
    " If odd, apply a 15% discount to the Clothing category."
   ]
  },
  {
   "cell_type": "code",
   "execution_count": 2,
   "id": "0f2f9257",
   "metadata": {},
   "outputs": [
    {
     "name": "stdout",
     "output_type": "stream",
     "text": [
      "First 5 Rows:\n",
      "     Electronics  Clothing  Home & Kitchen  Sports\n",
      "Jan         1563      1236            1620    1097\n",
      "Feb         1280      1741            3249    3571\n",
      "Mar         2355      3645            2068    1368\n",
      "Apr         1535      2635            1975    1775\n",
      "May         3307      2264            1671    2973\n",
      "\n",
      "Summary Statistics:\n",
      "       Electronics     Clothing  Home & Kitchen       Sports\n",
      "count    12.000000    12.000000       12.000000    12.000000\n",
      "mean   2223.833333  2190.833333     2333.083333  2189.000000\n",
      "std     852.634936   629.250179      667.585671   867.890127\n",
      "min    1203.000000  1236.000000     1484.000000  1097.000000\n",
      "25%    1545.500000  1813.000000     1866.000000  1520.250000\n",
      "50%    2085.500000  2174.000000     2049.000000  2046.500000\n",
      "75%    2844.000000  2464.750000     2949.000000  3043.750000\n",
      "max    3720.000000  3645.000000     3306.000000  3571.000000\n",
      "\n",
      "Total Sales per Category:\n",
      "Electronics       26686\n",
      "Clothing          26290\n",
      "Home & Kitchen    27997\n",
      "Sports            26268\n",
      "dtype: int64\n",
      "\n",
      "Total Sales per Month:\n",
      "Jan     5516\n",
      "Feb     9841\n",
      "Mar     9436\n",
      "Apr     7920\n",
      "May    10215\n",
      "Jun     8706\n",
      "Jul     9158\n",
      "Aug     9464\n",
      "Sep     8508\n",
      "Oct     8748\n",
      "Nov     9656\n",
      "Dec    10073\n",
      "dtype: int64\n",
      "\n",
      "Average Monthly Growth Rate (%) for Each Category:\n",
      "Electronics       21.410313\n",
      "Clothing          10.720096\n",
      "Home & Kitchen    11.891633\n",
      "Sports            24.016976\n",
      "dtype: float64\n",
      "\n",
      "Roll number is even: Applying 10% discount to Electronics category.\n",
      "\n",
      "Final DataFrame with Total Sales, Growth Rate, and Discounts:\n",
      "     Electronics  Clothing  Home & Kitchen  Sports  Total Sales  \\\n",
      "Jan       1406.7      1236            1620    1097         5516   \n",
      "Feb       1152.0      1741            3249    3571         9841   \n",
      "Mar       2119.5      3645            2068    1368         9436   \n",
      "Apr       1381.5      2635            1975    1775         7920   \n",
      "May       2976.3      2264            1671    2973        10215   \n",
      "Jun       2266.2      2084            2030    2074         8706   \n",
      "Jul       2764.8      2548            1484    2054         9158   \n",
      "Aug       2491.2      1509            1931    3256         9464   \n",
      "Sep       1634.4      2436            2685    1571         8508   \n",
      "Oct       1082.7      2437            3069    2039         8748   \n",
      "Nov       1394.1      1918            2909    3280         9656   \n",
      "Dec       3348.0      1837            3306    1210        10073   \n",
      "\n",
      "     Growth Rate (%)  \n",
      "Jan              NaN  \n",
      "Feb            78.41  \n",
      "Mar            -4.12  \n",
      "Apr           -16.07  \n",
      "May            28.98  \n",
      "Jun           -14.77  \n",
      "Jul             5.19  \n",
      "Aug             3.34  \n",
      "Sep           -10.10  \n",
      "Oct             2.82  \n",
      "Nov            10.38  \n",
      "Dec             4.32  \n"
     ]
    }
   ],
   "source": [
    "# PART II: Data Manipulation and Analysis (Pandas)\n",
    "\n",
    "# 1. Display the first 5 rows and summary statistics\n",
    "print(\"First 5 Rows:\")\n",
    "print(sales_df.head())\n",
    "\n",
    "print(\"\\nSummary Statistics:\")\n",
    "print(sales_df.describe())\n",
    "\n",
    "# 2. Calculate total sales per category and per month\n",
    "total_sales_per_category = sales_df.sum()\n",
    "print(\"\\nTotal Sales per Category:\")\n",
    "print(total_sales_per_category)\n",
    "\n",
    "total_sales_per_month = sales_df.sum(axis=1)\n",
    "print(\"\\nTotal Sales per Month:\")\n",
    "print(total_sales_per_month)\n",
    "\n",
    "# 3. Average sales growth between consecutive months for each category\n",
    "sales_growth = sales_df.pct_change().mean() * 100  # in percentage\n",
    "print(\"\\nAverage Monthly Growth Rate (%) for Each Category:\")\n",
    "print(sales_growth)\n",
    "\n",
    "# 4. Add \"Total Sales\" and \"Growth Rate\" columns\n",
    "sales_df['Total Sales'] = sales_df.sum(axis=1)\n",
    "sales_df['Growth Rate (%)'] = sales_df['Total Sales'].pct_change() * 100\n",
    "\n",
    "# 5. Apply randomized discount based on ROLL_NUMBER\n",
    "if ROLL_NUMBER % 2 == 0:\n",
    "    print(\"\\nRoll number is even: Applying 10% discount to Electronics category.\")\n",
    "    sales_df['Electronics'] = sales_df['Electronics'] * 0.9  # 10% discount\n",
    "else:\n",
    "    print(\"\\nRoll number is odd: Applying 15% discount to Clothing category.\")\n",
    "    sales_df['Clothing'] = sales_df['Clothing'] * 0.85  # 15% discount\n",
    "\n",
    "# Round values for cleaner output\n",
    "sales_df = sales_df.round(2)\n",
    "\n",
    "# Final DataFrame after all operations\n",
    "print(\"\\nFinal DataFrame with Total Sales, Growth Rate, and Discounts:\")\n",
    "print(sales_df)\n"
   ]
  },
  {
   "cell_type": "markdown",
   "id": "5facbc71",
   "metadata": {},
   "source": [
    "Part III: VisualizaƟons (Matplotlib and Seaborn)\n",
    "1. Plot monthly sales trends for each category using line plots.\n",
    "2. Create the following plots:\n",
    " Box plots to show the sales distribuƟon for each category."
   ]
  },
  {
   "cell_type": "code",
   "execution_count": null,
   "id": "6ea50973",
   "metadata": {},
   "outputs": [
    {
     "ename": "KeyboardInterrupt",
     "evalue": "",
     "output_type": "error",
     "traceback": [
      "\u001b[31m---------------------------------------------------------------------------\u001b[39m",
      "\u001b[31mKeyboardInterrupt\u001b[39m                         Traceback (most recent call last)",
      "\u001b[36mCell\u001b[39m\u001b[36m \u001b[39m\u001b[32mIn[3]\u001b[39m\u001b[32m, line 4\u001b[39m\n\u001b[32m      1\u001b[39m \u001b[38;5;66;03m# PART III: Visualizations (Matplotlib and Seaborn)\u001b[39;00m\n\u001b[32m      3\u001b[39m \u001b[38;5;28;01mimport\u001b[39;00m\u001b[38;5;250m \u001b[39m\u001b[34;01mmatplotlib\u001b[39;00m\u001b[34;01m.\u001b[39;00m\u001b[34;01mpyplot\u001b[39;00m\u001b[38;5;250m \u001b[39m\u001b[38;5;28;01mas\u001b[39;00m\u001b[38;5;250m \u001b[39m\u001b[34;01mplt\u001b[39;00m\n\u001b[32m----> \u001b[39m\u001b[32m4\u001b[39m \u001b[38;5;28;01mimport\u001b[39;00m\u001b[38;5;250m \u001b[39m\u001b[34;01mseaborn\u001b[39;00m\u001b[38;5;250m \u001b[39m\u001b[38;5;28;01mas\u001b[39;00m\u001b[38;5;250m \u001b[39m\u001b[34;01msns\u001b[39;00m\n\u001b[32m      6\u001b[39m \u001b[38;5;66;03m# Set the plot style\u001b[39;00m\n\u001b[32m      7\u001b[39m sns.set(style=\u001b[33m\"\u001b[39m\u001b[33mwhitegrid\u001b[39m\u001b[33m\"\u001b[39m)\n",
      "\u001b[36mFile \u001b[39m\u001b[32mc:\\Users\\shrey\\AppData\\Local\\Programs\\Python\\Python311\\Lib\\site-packages\\seaborn\\__init__.py:5\u001b[39m\n\u001b[32m      3\u001b[39m \u001b[38;5;28;01mfrom\u001b[39;00m\u001b[38;5;250m \u001b[39m\u001b[34;01m.\u001b[39;00m\u001b[34;01mutils\u001b[39;00m\u001b[38;5;250m \u001b[39m\u001b[38;5;28;01mimport\u001b[39;00m *  \u001b[38;5;66;03m# noqa: F401,F403\u001b[39;00m\n\u001b[32m      4\u001b[39m \u001b[38;5;28;01mfrom\u001b[39;00m\u001b[38;5;250m \u001b[39m\u001b[34;01m.\u001b[39;00m\u001b[34;01mpalettes\u001b[39;00m\u001b[38;5;250m \u001b[39m\u001b[38;5;28;01mimport\u001b[39;00m *  \u001b[38;5;66;03m# noqa: F401,F403\u001b[39;00m\n\u001b[32m----> \u001b[39m\u001b[32m5\u001b[39m \u001b[38;5;28;01mfrom\u001b[39;00m\u001b[38;5;250m \u001b[39m\u001b[34;01m.\u001b[39;00m\u001b[34;01mrelational\u001b[39;00m\u001b[38;5;250m \u001b[39m\u001b[38;5;28;01mimport\u001b[39;00m *  \u001b[38;5;66;03m# noqa: F401,F403\u001b[39;00m\n\u001b[32m      6\u001b[39m \u001b[38;5;28;01mfrom\u001b[39;00m\u001b[38;5;250m \u001b[39m\u001b[34;01m.\u001b[39;00m\u001b[34;01mregression\u001b[39;00m\u001b[38;5;250m \u001b[39m\u001b[38;5;28;01mimport\u001b[39;00m *  \u001b[38;5;66;03m# noqa: F401,F403\u001b[39;00m\n\u001b[32m      7\u001b[39m \u001b[38;5;28;01mfrom\u001b[39;00m\u001b[38;5;250m \u001b[39m\u001b[34;01m.\u001b[39;00m\u001b[34;01mcategorical\u001b[39;00m\u001b[38;5;250m \u001b[39m\u001b[38;5;28;01mimport\u001b[39;00m *  \u001b[38;5;66;03m# noqa: F401,F403\u001b[39;00m\n",
      "\u001b[36mFile \u001b[39m\u001b[32mc:\\Users\\shrey\\AppData\\Local\\Programs\\Python\\Python311\\Lib\\site-packages\\seaborn\\relational.py:21\u001b[39m\n\u001b[32m     13\u001b[39m \u001b[38;5;28;01mfrom\u001b[39;00m\u001b[38;5;250m \u001b[39m\u001b[34;01m.\u001b[39;00m\u001b[34;01mutils\u001b[39;00m\u001b[38;5;250m \u001b[39m\u001b[38;5;28;01mimport\u001b[39;00m (\n\u001b[32m     14\u001b[39m     adjust_legend_subtitles,\n\u001b[32m     15\u001b[39m     _default_color,\n\u001b[32m   (...)\u001b[39m\u001b[32m     18\u001b[39m     _scatter_legend_artist,\n\u001b[32m     19\u001b[39m )\n\u001b[32m     20\u001b[39m \u001b[38;5;28;01mfrom\u001b[39;00m\u001b[38;5;250m \u001b[39m\u001b[34;01m.\u001b[39;00m\u001b[34;01m_compat\u001b[39;00m\u001b[38;5;250m \u001b[39m\u001b[38;5;28;01mimport\u001b[39;00m groupby_apply_include_groups\n\u001b[32m---> \u001b[39m\u001b[32m21\u001b[39m \u001b[38;5;28;01mfrom\u001b[39;00m\u001b[38;5;250m \u001b[39m\u001b[34;01m.\u001b[39;00m\u001b[34;01m_statistics\u001b[39;00m\u001b[38;5;250m \u001b[39m\u001b[38;5;28;01mimport\u001b[39;00m EstimateAggregator, WeightedAggregator\n\u001b[32m     22\u001b[39m \u001b[38;5;28;01mfrom\u001b[39;00m\u001b[38;5;250m \u001b[39m\u001b[34;01m.\u001b[39;00m\u001b[34;01maxisgrid\u001b[39;00m\u001b[38;5;250m \u001b[39m\u001b[38;5;28;01mimport\u001b[39;00m FacetGrid, _facet_docs\n\u001b[32m     23\u001b[39m \u001b[38;5;28;01mfrom\u001b[39;00m\u001b[38;5;250m \u001b[39m\u001b[34;01m.\u001b[39;00m\u001b[34;01m_docstrings\u001b[39;00m\u001b[38;5;250m \u001b[39m\u001b[38;5;28;01mimport\u001b[39;00m DocstringComponents, _core_docs\n",
      "\u001b[36mFile \u001b[39m\u001b[32mc:\\Users\\shrey\\AppData\\Local\\Programs\\Python\\Python311\\Lib\\site-packages\\seaborn\\_statistics.py:32\u001b[39m\n\u001b[32m     30\u001b[39m \u001b[38;5;28;01mimport\u001b[39;00m\u001b[38;5;250m \u001b[39m\u001b[34;01mpandas\u001b[39;00m\u001b[38;5;250m \u001b[39m\u001b[38;5;28;01mas\u001b[39;00m\u001b[38;5;250m \u001b[39m\u001b[34;01mpd\u001b[39;00m\n\u001b[32m     31\u001b[39m \u001b[38;5;28;01mtry\u001b[39;00m:\n\u001b[32m---> \u001b[39m\u001b[32m32\u001b[39m     \u001b[38;5;28;01mfrom\u001b[39;00m\u001b[38;5;250m \u001b[39m\u001b[34;01mscipy\u001b[39;00m\u001b[34;01m.\u001b[39;00m\u001b[34;01mstats\u001b[39;00m\u001b[38;5;250m \u001b[39m\u001b[38;5;28;01mimport\u001b[39;00m gaussian_kde\n\u001b[32m     33\u001b[39m     _no_scipy = \u001b[38;5;28;01mFalse\u001b[39;00m\n\u001b[32m     34\u001b[39m \u001b[38;5;28;01mexcept\u001b[39;00m \u001b[38;5;167;01mImportError\u001b[39;00m:\n",
      "\u001b[36mFile \u001b[39m\u001b[32mc:\\Users\\shrey\\AppData\\Local\\Programs\\Python\\Python311\\Lib\\site-packages\\scipy\\stats\\__init__.py:624\u001b[39m\n\u001b[32m      1\u001b[39m \u001b[33;03m\"\"\"\u001b[39;00m\n\u001b[32m      2\u001b[39m \u001b[33;03m.. _statsrefmanual:\u001b[39;00m\n\u001b[32m      3\u001b[39m \n\u001b[32m   (...)\u001b[39m\u001b[32m    619\u001b[39m \n\u001b[32m    620\u001b[39m \u001b[33;03m\"\"\"\u001b[39;00m  \u001b[38;5;66;03m# noqa: E501\u001b[39;00m\n\u001b[32m    622\u001b[39m \u001b[38;5;28;01mfrom\u001b[39;00m\u001b[38;5;250m \u001b[39m\u001b[34;01m.\u001b[39;00m\u001b[34;01m_warnings_errors\u001b[39;00m\u001b[38;5;250m \u001b[39m\u001b[38;5;28;01mimport\u001b[39;00m (ConstantInputWarning, NearConstantInputWarning,\n\u001b[32m    623\u001b[39m                                DegenerateDataWarning, FitError)\n\u001b[32m--> \u001b[39m\u001b[32m624\u001b[39m \u001b[38;5;28;01mfrom\u001b[39;00m\u001b[38;5;250m \u001b[39m\u001b[34;01m.\u001b[39;00m\u001b[34;01m_stats_py\u001b[39;00m\u001b[38;5;250m \u001b[39m\u001b[38;5;28;01mimport\u001b[39;00m *\n\u001b[32m    625\u001b[39m \u001b[38;5;28;01mfrom\u001b[39;00m\u001b[38;5;250m \u001b[39m\u001b[34;01m.\u001b[39;00m\u001b[34;01m_variation\u001b[39;00m\u001b[38;5;250m \u001b[39m\u001b[38;5;28;01mimport\u001b[39;00m variation\n\u001b[32m    626\u001b[39m \u001b[38;5;28;01mfrom\u001b[39;00m\u001b[38;5;250m \u001b[39m\u001b[34;01m.\u001b[39;00m\u001b[34;01mdistributions\u001b[39;00m\u001b[38;5;250m \u001b[39m\u001b[38;5;28;01mimport\u001b[39;00m *\n",
      "\u001b[36mFile \u001b[39m\u001b[32mc:\\Users\\shrey\\AppData\\Local\\Programs\\Python\\Python311\\Lib\\site-packages\\scipy\\stats\\_stats_py.py:39\u001b[39m\n\u001b[32m     36\u001b[39m \u001b[38;5;28;01mfrom\u001b[39;00m\u001b[38;5;250m \u001b[39m\u001b[34;01mnumpy\u001b[39;00m\u001b[38;5;250m \u001b[39m\u001b[38;5;28;01mimport\u001b[39;00m array, asarray, ma\n\u001b[32m     38\u001b[39m \u001b[38;5;28;01mfrom\u001b[39;00m\u001b[38;5;250m \u001b[39m\u001b[34;01mscipy\u001b[39;00m\u001b[38;5;250m \u001b[39m\u001b[38;5;28;01mimport\u001b[39;00m sparse\n\u001b[32m---> \u001b[39m\u001b[32m39\u001b[39m \u001b[38;5;28;01mfrom\u001b[39;00m\u001b[38;5;250m \u001b[39m\u001b[34;01mscipy\u001b[39;00m\u001b[34;01m.\u001b[39;00m\u001b[34;01mspatial\u001b[39;00m\u001b[38;5;250m \u001b[39m\u001b[38;5;28;01mimport\u001b[39;00m distance_matrix\n\u001b[32m     41\u001b[39m \u001b[38;5;28;01mfrom\u001b[39;00m\u001b[38;5;250m \u001b[39m\u001b[34;01mscipy\u001b[39;00m\u001b[34;01m.\u001b[39;00m\u001b[34;01moptimize\u001b[39;00m\u001b[38;5;250m \u001b[39m\u001b[38;5;28;01mimport\u001b[39;00m milp, LinearConstraint\n\u001b[32m     42\u001b[39m \u001b[38;5;28;01mfrom\u001b[39;00m\u001b[38;5;250m \u001b[39m\u001b[34;01mscipy\u001b[39;00m\u001b[34;01m.\u001b[39;00m\u001b[34;01m_lib\u001b[39;00m\u001b[34;01m.\u001b[39;00m\u001b[34;01m_util\u001b[39;00m\u001b[38;5;250m \u001b[39m\u001b[38;5;28;01mimport\u001b[39;00m (check_random_state, _get_nan,\n\u001b[32m     43\u001b[39m                               _rename_parameter, _contains_nan,\n\u001b[32m     44\u001b[39m                               AxisError, _lazywhere)\n",
      "\u001b[36mFile \u001b[39m\u001b[32mc:\\Users\\shrey\\AppData\\Local\\Programs\\Python\\Python311\\Lib\\site-packages\\scipy\\spatial\\__init__.py:113\u001b[39m\n\u001b[32m    111\u001b[39m \u001b[38;5;28;01mfrom\u001b[39;00m\u001b[38;5;250m \u001b[39m\u001b[34;01m.\u001b[39;00m\u001b[34;01m_ckdtree\u001b[39;00m\u001b[38;5;250m \u001b[39m\u001b[38;5;28;01mimport\u001b[39;00m *  \u001b[38;5;66;03m# type: ignore[import-not-found]\u001b[39;00m\n\u001b[32m    112\u001b[39m \u001b[38;5;28;01mfrom\u001b[39;00m\u001b[38;5;250m \u001b[39m\u001b[34;01m.\u001b[39;00m\u001b[34;01m_qhull\u001b[39;00m\u001b[38;5;250m \u001b[39m\u001b[38;5;28;01mimport\u001b[39;00m *\n\u001b[32m--> \u001b[39m\u001b[32m113\u001b[39m \u001b[38;5;28;01mfrom\u001b[39;00m\u001b[38;5;250m \u001b[39m\u001b[34;01m.\u001b[39;00m\u001b[34;01m_spherical_voronoi\u001b[39;00m\u001b[38;5;250m \u001b[39m\u001b[38;5;28;01mimport\u001b[39;00m SphericalVoronoi\n\u001b[32m    114\u001b[39m \u001b[38;5;28;01mfrom\u001b[39;00m\u001b[38;5;250m \u001b[39m\u001b[34;01m.\u001b[39;00m\u001b[34;01m_plotutils\u001b[39;00m\u001b[38;5;250m \u001b[39m\u001b[38;5;28;01mimport\u001b[39;00m *\n\u001b[32m    115\u001b[39m \u001b[38;5;28;01mfrom\u001b[39;00m\u001b[38;5;250m \u001b[39m\u001b[34;01m.\u001b[39;00m\u001b[34;01m_procrustes\u001b[39;00m\u001b[38;5;250m \u001b[39m\u001b[38;5;28;01mimport\u001b[39;00m procrustes\n",
      "\u001b[36mFile \u001b[39m\u001b[32mc:\\Users\\shrey\\AppData\\Local\\Programs\\Python\\Python311\\Lib\\site-packages\\scipy\\spatial\\_spherical_voronoi.py:16\u001b[39m\n\u001b[32m     14\u001b[39m \u001b[38;5;28;01mimport\u001b[39;00m\u001b[38;5;250m \u001b[39m\u001b[34;01mnumpy\u001b[39;00m\u001b[38;5;250m \u001b[39m\u001b[38;5;28;01mas\u001b[39;00m\u001b[38;5;250m \u001b[39m\u001b[34;01mnp\u001b[39;00m\n\u001b[32m     15\u001b[39m \u001b[38;5;28;01mimport\u001b[39;00m\u001b[38;5;250m \u001b[39m\u001b[34;01mscipy\u001b[39;00m\n\u001b[32m---> \u001b[39m\u001b[32m16\u001b[39m \u001b[38;5;28;01mfrom\u001b[39;00m\u001b[38;5;250m \u001b[39m\u001b[34;01m.\u001b[39;00m\u001b[38;5;250m \u001b[39m\u001b[38;5;28;01mimport\u001b[39;00m _voronoi\n\u001b[32m     17\u001b[39m \u001b[38;5;28;01mfrom\u001b[39;00m\u001b[38;5;250m \u001b[39m\u001b[34;01mscipy\u001b[39;00m\u001b[34;01m.\u001b[39;00m\u001b[34;01mspatial\u001b[39;00m\u001b[38;5;250m \u001b[39m\u001b[38;5;28;01mimport\u001b[39;00m cKDTree  \u001b[38;5;66;03m# type: ignore[attr-defined]\u001b[39;00m\n\u001b[32m     19\u001b[39m __all__ = [\u001b[33m'\u001b[39m\u001b[33mSphericalVoronoi\u001b[39m\u001b[33m'\u001b[39m]\n",
      "\u001b[36mFile \u001b[39m\u001b[32m<frozen importlib._bootstrap>:405\u001b[39m, in \u001b[36mparent\u001b[39m\u001b[34m(self)\u001b[39m\n",
      "\u001b[31mKeyboardInterrupt\u001b[39m: "
     ]
    }
   ],
   "source": [
    "\n",
    "import matplotlib.pyplot as plt\n",
    "import seaborn as sns\n",
    "\n",
    "sns.set(style=\"whitegrid\")\n",
    "\n",
    "plt.figure(figsize=(12, 6))\n",
    "for category in ['Electronics', 'Clothing', 'Home & Kitchen', 'Sports']:\n",
    "    plt.plot(sales_df.index, sales_df[category], marker='o', label=category)\n",
    "\n",
    "plt.title('Monthly Sales Trends by Category')\n",
    "plt.xlabel('Month')\n",
    "plt.ylabel('Units Sold')\n",
    "plt.legend()\n",
    "plt.xticks(rotation=45)\n",
    "plt.tight_layout()\n",
    "plt.show()\n",
    "\n",
    "plt.figure(figsize=(10, 6))\n",
    "sns.boxplot(data=sales_df[['Electronics', 'Clothing', 'Home & Kitchen', 'Sports']])\n",
    "plt.title('Sales Distribution per Category')\n",
    "plt.ylabel('Units Sold')\n",
    "plt.xlabel('Product Category')\n",
    "plt.tight_layout()\n",
    "plt.show()\n"
   ]
  },
  {
   "cell_type": "markdown",
   "id": "d4dd8f9d",
   "metadata": {},
   "source": [
    "Q.2 For the array: array = np.array([[1, -2, 3],[-4, 5, -6]])\n",
    "i. Find element-wise absolute value\n",
    "ii. Find the 25th, 50th, and 75th percenƟle of flaƩened array, for each column, for each\n",
    "row.\n",
    "iii. Mean, Median and Standard DeviaƟon of flaƩened array, of each column, and\n",
    "each row"
   ]
  },
  {
   "cell_type": "code",
   "execution_count": null,
   "id": "3cd2a796",
   "metadata": {},
   "outputs": [
    {
     "name": "stdout",
     "output_type": "stream",
     "text": [
      "i. Element-wise Absolute Value:\n",
      " [[1 2 3]\n",
      " [4 5 6]]\n",
      "\n",
      "ii. Percentiles:\n",
      "Flattened (25th, 50th, 75th): [-3.5 -0.5  2.5]\n",
      "Per Column (25th, 50th, 75th):\n",
      " [[-2.75 -0.25 -3.75]\n",
      " [-1.5   1.5  -1.5 ]\n",
      " [-0.25  3.25  0.75]]\n",
      "Per Row (25th, 50th, 75th):\n",
      " [[-0.5 -5. ]\n",
      " [ 1.  -4. ]\n",
      " [ 2.   0.5]]\n",
      "\n",
      "iii. Statistics:\n",
      "Flattened -> Mean: -0.5 | Median: -0.5 | Std Dev: 3.8622100754188224\n",
      "Per Column -> Mean: [-1.5  1.5 -1.5]\n",
      "             Median: [-1.5  1.5 -1.5]\n",
      "             Std Dev: [2.5 3.5 4.5]\n",
      "Per Row    -> Mean: [ 0.66666667 -1.66666667]\n",
      "             Median: [ 1. -4.]\n",
      "             Std Dev: [2.05480467 4.78423336]\n"
     ]
    }
   ],
   "source": [
    "import numpy as np\n",
    "\n",
    "array = np.array([[1, -2, 3], [-4, 5, -6]])\n",
    "\n",
    "abs_array = np.abs(array)\n",
    "print(\"i. Element-wise Absolute Value:\\n\", abs_array)\n",
    "\n",
    "flat_array = array.flatten()\n",
    "percentiles_flat = np.percentile(flat_array, [25, 50, 75])\n",
    "percentiles_col = np.percentile(array, [25, 50, 75], axis=0)\n",
    "percentiles_row = np.percentile(array, [25, 50, 75], axis=1)\n",
    "\n",
    "print(\"\\nii. Percentiles:\")\n",
    "print(\"Flattened (25th, 50th, 75th):\", percentiles_flat)\n",
    "print(\"Per Column (25th, 50th, 75th):\\n\", percentiles_col)\n",
    "print(\"Per Row (25th, 50th, 75th):\\n\", percentiles_row)\n",
    "\n",
    "mean_flat = np.mean(flat_array)\n",
    "median_flat = np.median(flat_array)\n",
    "std_flat = np.std(flat_array)\n",
    "\n",
    "mean_col = np.mean(array, axis=0)\n",
    "median_col = np.median(array, axis=0)\n",
    "std_col = np.std(array, axis=0)\n",
    "\n",
    "mean_row = np.mean(array, axis=1)\n",
    "median_row = np.median(array, axis=1)\n",
    "std_row = np.std(array, axis=1)\n",
    "\n",
    "print(\"\\niii. Statistics:\")\n",
    "print(\"Flattened -> Mean:\", mean_flat, \"| Median:\", median_flat, \"| Std Dev:\", std_flat)\n",
    "print(\"Per Column -> Mean:\", mean_col)\n",
    "print(\"             Median:\", median_col)\n",
    "print(\"             Std Dev:\", std_col)\n",
    "print(\"Per Row    -> Mean:\", mean_row)\n",
    "print(\"             Median:\", median_row)\n",
    "print(\"             Std Dev:\", std_row)\n"
   ]
  },
  {
   "cell_type": "markdown",
   "id": "ecf4f4b2",
   "metadata": {},
   "source": [
    "Q.3 For the array: a = np.array([-1.8, -1.6, -0.5, 0.5,1.6, 1.8, 3.0]).\n",
    "i. Find floor, ceiling and truncated value, rounded values"
   ]
  },
  {
   "cell_type": "code",
   "execution_count": null,
   "id": "ab582b23",
   "metadata": {},
   "outputs": [
    {
     "name": "stdout",
     "output_type": "stream",
     "text": [
      "Original Array:\n",
      " [-1.8 -1.6 -0.5  0.5  1.6  1.8  3. ]\n",
      "\n",
      "Floor Values:\n",
      " [-2. -2. -1.  0.  1.  1.  3.]\n",
      "\n",
      "Ceiling Values:\n",
      " [-1. -1. -0.  1.  2.  2.  3.]\n",
      "\n",
      "Truncated Values:\n",
      " [-1. -1. -0.  0.  1.  1.  3.]\n",
      "\n",
      "Rounded Values:\n",
      " [-2. -2. -0.  0.  2.  2.  3.]\n"
     ]
    }
   ],
   "source": [
    "import numpy as np\n",
    "\n",
    "# Given array\n",
    "a = np.array([-1.8, -1.6, -0.5, 0.5, 1.6, 1.8, 3.0])\n",
    "\n",
    "floor_vals = np.floor(a)\n",
    "ceil_vals = np.ceil(a)\n",
    "trunc_vals = np.trunc(a)\n",
    "round_vals = np.round(a)\n",
    "\n",
    "print(\"Original Array:\\n\", a)\n",
    "print(\"\\nFloor Values:\\n\", floor_vals)\n",
    "print(\"\\nCeiling Values:\\n\", ceil_vals)\n",
    "print(\"\\nTruncated Values:\\n\", trunc_vals)\n",
    "print(\"\\nRounded Values:\\n\", round_vals)\n"
   ]
  },
  {
   "cell_type": "markdown",
   "id": "456400d1",
   "metadata": {},
   "source": [
    "Q.4 WAP to swap two elements in a list in Python Using a Temporary Variable."
   ]
  },
  {
   "cell_type": "code",
   "execution_count": null,
   "id": "02579c92",
   "metadata": {},
   "outputs": [
    {
     "name": "stdout",
     "output_type": "stream",
     "text": [
      "Original List: [10, 20, 30, 40, 50]\n",
      "List after swapping elements at index 1 and 3: [10, 40, 30, 20, 50]\n"
     ]
    }
   ],
   "source": [
    "my_list = [10, 20, 30, 40, 50]\n",
    "\n",
    "i = 1\n",
    "j = 3\n",
    "\n",
    "print(\"Original List:\", my_list)\n",
    "\n",
    "temp = my_list[i]\n",
    "my_list[i] = my_list[j]\n",
    "my_list[j] = temp\n",
    "\n",
    "print(f\"List after swapping elements at index {i} and {j}:\", my_list)\n"
   ]
  },
  {
   "cell_type": "markdown",
   "id": "7df78bea",
   "metadata": {},
   "source": [
    "Q.5 Write a Python program to swap two elements in a set by converƟng it to a list first."
   ]
  },
  {
   "cell_type": "code",
   "execution_count": null,
   "id": "e9ab58aa",
   "metadata": {},
   "outputs": [
    {
     "name": "stdout",
     "output_type": "stream",
     "text": [
      "Original Set: {50, 20, 40, 10, 30}\n",
      "Converted to List: [50, 20, 40, 10, 30]\n",
      "Set after swapping elements: {40, 10, 50, 20, 30}\n"
     ]
    }
   ],
   "source": [
    "my_set = {10, 20, 30, 40, 50}\n",
    "\n",
    "set_as_list = list(my_set)\n",
    "\n",
    "i = 1\n",
    "j = 3\n",
    "\n",
    "print(\"Original Set:\", my_set)\n",
    "print(\"Converted to List:\", set_as_list)\n",
    "\n",
    "temp = set_as_list[i]\n",
    "set_as_list[i] = set_as_list[j]\n",
    "set_as_list[j] = temp\n",
    "\n",
    "swapped_set = set(set_as_list)\n",
    "\n",
    "print(\"Set after swapping elements:\", swapped_set)\n"
   ]
  }
 ],
 "metadata": {
  "kernelspec": {
   "display_name": "Python 3",
   "language": "python",
   "name": "python3"
  },
  "language_info": {
   "codemirror_mode": {
    "name": "ipython",
    "version": 3
   },
   "file_extension": ".py",
   "mimetype": "text/x-python",
   "name": "python",
   "nbconvert_exporter": "python",
   "pygments_lexer": "ipython3",
   "version": "3.11.9"
  }
 },
 "nbformat": 4,
 "nbformat_minor": 5
}
