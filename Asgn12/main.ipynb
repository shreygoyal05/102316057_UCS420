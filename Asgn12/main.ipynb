{
 "cells": [
  {
   "cell_type": "markdown",
   "id": "7a27b9e9",
   "metadata": {},
   "source": [
    "# Assignment 12"
   ]
  },
  {
   "cell_type": "code",
   "execution_count": 3,
   "id": "a3b633ee",
   "metadata": {
    "vscode": {
     "languageId": "bat"
    }
   },
   "outputs": [
    {
     "name": "stdout",
     "output_type": "stream",
     "text": [
      "Requirement already satisfied: virtualenv in c:\\users\\shrey\\appdata\\local\\programs\\python\\python37\\lib\\site-packages (20.26.6)\n",
      "Requirement already satisfied: importlib-metadata>=6.6; python_version < \"3.8\" in c:\\users\\shrey\\appdata\\local\\programs\\python\\python37\\lib\\site-packages (from virtualenv) (6.7.0)\n",
      "Requirement already satisfied: distlib<1,>=0.3.7 in c:\\users\\shrey\\appdata\\local\\programs\\python\\python37\\lib\\site-packages (from virtualenv) (0.3.9)\n",
      "Requirement already satisfied: filelock<4,>=3.12.2 in c:\\users\\shrey\\appdata\\local\\programs\\python\\python37\\lib\\site-packages (from virtualenv) (3.12.2)\n",
      "Requirement already satisfied: platformdirs<5,>=3.9.1 in c:\\users\\shrey\\appdata\\local\\programs\\python\\python37\\lib\\site-packages (from virtualenv) (4.0.0)\n",
      "Requirement already satisfied: zipp>=0.5 in c:\\users\\shrey\\appdata\\local\\programs\\python\\python37\\lib\\site-packages (from importlib-metadata>=6.6; python_version < \"3.8\"->virtualenv) (3.15.0)\n",
      "Requirement already satisfied: typing-extensions>=3.6.4; python_version < \"3.8\" in c:\\users\\shrey\\appdata\\local\\programs\\python\\python37\\lib\\site-packages (from importlib-metadata>=6.6; python_version < \"3.8\"->virtualenv) (4.7.1)\n",
      "Note: you may need to restart the kernel to use updated packages.\n"
     ]
    },
    {
     "name": "stderr",
     "output_type": "stream",
     "text": [
      "WARNING: You are using pip version 20.1.1; however, version 24.0 is available.\n",
      "You should consider upgrading via the 'c:\\Users\\shrey\\AppData\\Local\\Programs\\Python\\Python37\\python.exe -m pip install --upgrade pip' command.\n"
     ]
    }
   ],
   "source": [
    "pip install virtualenv"
   ]
  },
  {
   "cell_type": "code",
   "execution_count": 2,
   "id": "e2d18a52",
   "metadata": {
    "vscode": {
     "languageId": "bat"
    }
   },
   "outputs": [],
   "source": [
    "!python -m venv as12env"
   ]
  },
  {
   "cell_type": "code",
   "execution_count": 6,
   "id": "af3cfd43",
   "metadata": {
    "vscode": {
     "languageId": "bat"
    }
   },
   "outputs": [
    {
     "name": "stdout",
     "output_type": "stream",
     "text": [
      "^C\n"
     ]
    }
   ],
   "source": [
    "!pip install jupyter numpy==1.19.5 h5py==2.10.0 spacy==2.1.9 thinc==7.0.8 chatterbot==1.0.5"
   ]
  },
  {
   "cell_type": "code",
   "execution_count": 15,
   "id": "ebb63ec2",
   "metadata": {
    "vscode": {
     "languageId": "bat"
    }
   },
   "outputs": [
    {
     "name": "stdout",
     "output_type": "stream",
     "text": [
      "Requirement already satisfied: chatterbot in c:\\users\\shrey\\desktop\\102316057_ucs420\\asgn12\\as12env\\lib\\site-packages (1.0.8)\n",
      "Requirement already satisfied: chatterbot_corpus in c:\\users\\shrey\\desktop\\102316057_ucs420\\asgn12\\as12env\\lib\\site-packages (1.2.2)\n",
      "Requirement already satisfied: pytz in c:\\users\\shrey\\desktop\\102316057_ucs420\\asgn12\\as12env\\lib\\site-packages (from chatterbot) (2025.2)\n",
      "Requirement already satisfied: mathparse<0.2,>=0.1 in c:\\users\\shrey\\desktop\\102316057_ucs420\\asgn12\\as12env\\lib\\site-packages (from chatterbot) (0.1.2)\n",
      "Requirement already satisfied: sqlalchemy<1.4,>=1.3 in c:\\users\\shrey\\desktop\\102316057_ucs420\\asgn12\\as12env\\lib\\site-packages (from chatterbot) (1.3.24)\n",
      "Requirement already satisfied: python-dateutil<2.9,>=2.8 in c:\\users\\shrey\\desktop\\102316057_ucs420\\asgn12\\as12env\\lib\\site-packages (from chatterbot) (2.8.2)\n",
      "Requirement already satisfied: six>=1.5 in c:\\users\\shrey\\desktop\\102316057_ucs420\\asgn12\\as12env\\lib\\site-packages (from python-dateutil<2.9,>=2.8->chatterbot) (1.17.0)\n"
     ]
    },
    {
     "name": "stderr",
     "output_type": "stream",
     "text": [
      "WARNING: You are using pip version 20.1.1; however, version 24.0 is available.\n",
      "You should consider upgrading via the 'c:\\users\\shrey\\desktop\\102316057_ucs420\\asgn12\\as12env\\scripts\\python.exe -m pip install --upgrade pip' command.\n"
     ]
    }
   ],
   "source": [
    "!pip install chatterbot chatterbot_corpus"
   ]
  },
  {
   "cell_type": "code",
   "execution_count": 14,
   "id": "4431fc0e",
   "metadata": {
    "vscode": {
     "languageId": "bat"
    }
   },
   "outputs": [
    {
     "name": "stdout",
     "output_type": "stream",
     "text": [
      "^C\n"
     ]
    }
   ],
   "source": [
    "!pip install chatterbot==1.0.5"
   ]
  },
  {
   "cell_type": "code",
   "execution_count": 9,
   "id": "8b2a572d",
   "metadata": {},
   "outputs": [
    {
     "name": "stdout",
     "output_type": "stream",
     "text": [
      "HealthBot: Hello! I'm HealthBot. Type 'bye' to exit.\n",
      "HealthBot: Hello! I am HealthBot. How can I assist you today?\n",
      "HealthBot: You should rest, stay hydrated, and take a mild pain reliever if needed.\n",
      "HealthBot: You should rest, stay hydrated, and take a mild pain reliever if needed.\n",
      "HealthBot: Goodbye! Stay healthy.\n"
     ]
    }
   ],
   "source": [
    "import re\n",
    "\n",
    "class HealthBot:\n",
    "    def __init__(self):\n",
    "        self.responses = {\n",
    "            r'hi|hello|hey': 'Hello! I am HealthBot. How can I assist you today?',\n",
    "            r'headache': 'You should rest, stay hydrated, and take a mild pain reliever if needed.',\n",
    "            r'fever': 'Drink plenty of fluids and rest. If the fever persists, please consult a doctor.',\n",
    "            r'dizzy': 'Sit down, breathe deeply, and drink water. If it continues, seek medical help.',\n",
    "            r'cold': 'Warm fluids, soups, citrus fruits, and light meals help during a cold.',\n",
    "            r'stay healthy|healthy': 'Eat balanced meals, exercise regularly, stay hydrated, and get enough sleep.',\n",
    "            r'cut': 'Clean the wound with water, apply antiseptic, and cover it with a clean bandage.',\n",
    "            r'water|hydrate': 'Generally, 2 to 3 liters per day is recommended, but it varies based on your activity.',\n",
    "            r'thank': \"You're welcome! Take care.\",\n",
    "            r'bye|goodbye': 'Goodbye! Stay healthy.',\n",
    "            r'.*': \"I'm sorry, I didn't understand that. Could you rephrase your health concern?\"\n",
    "        }\n",
    "\n",
    "    def respond(self, user_input):\n",
    "        user_input = user_input.lower()\n",
    "        for pattern, response in self.responses.items():\n",
    "            if re.search(pattern, user_input):\n",
    "                return response\n",
    "\n",
    "def main():\n",
    "    bot = HealthBot()\n",
    "    print(\"HealthBot: Hello! I'm HealthBot. Type 'bye' to exit.\")\n",
    "    \n",
    "    while True:\n",
    "        user_input = input(\"You: \")\n",
    "        if user_input.lower() in ['bye', 'goodbye', 'exit']:\n",
    "            print(\"HealthBot:\", bot.respond(user_input))\n",
    "            break\n",
    "        response = bot.respond(user_input)\n",
    "        print(\"HealthBot:\", response)\n",
    "\n",
    "if __name__ == \"__main__\":\n",
    "    main()"
   ]
  },
  {
   "cell_type": "code",
   "execution_count": 16,
   "id": "04371be6",
   "metadata": {},
   "outputs": [
    {
     "ename": "ModuleNotFoundError",
     "evalue": "No module named 'chatterbot'",
     "output_type": "error",
     "traceback": [
      "\u001b[1;31m---------------------------------------------------------------------------\u001b[0m",
      "\u001b[1;31mModuleNotFoundError\u001b[0m                       Traceback (most recent call last)",
      "\u001b[1;32m~\\AppData\\Local\\Temp\\ipykernel_27060\\1236881115.py\u001b[0m in \u001b[0;36m<module>\u001b[1;34m\u001b[0m\n\u001b[1;32m----> 1\u001b[1;33m \u001b[1;32mfrom\u001b[0m \u001b[0mchatterbot\u001b[0m \u001b[1;32mimport\u001b[0m \u001b[0mChatBot\u001b[0m\u001b[1;33m\u001b[0m\u001b[1;33m\u001b[0m\u001b[0m\n\u001b[0m\u001b[0;32m      2\u001b[0m \u001b[1;32mfrom\u001b[0m \u001b[0mchatterbot\u001b[0m\u001b[1;33m.\u001b[0m\u001b[0mtrainers\u001b[0m \u001b[1;32mimport\u001b[0m \u001b[0mChatterBotCorpusTrainer\u001b[0m\u001b[1;33m\u001b[0m\u001b[1;33m\u001b[0m\u001b[0m\n\u001b[0;32m      3\u001b[0m \u001b[1;32mimport\u001b[0m \u001b[0mre\u001b[0m\u001b[1;33m\u001b[0m\u001b[1;33m\u001b[0m\u001b[0m\n\u001b[0;32m      4\u001b[0m \u001b[1;33m\u001b[0m\u001b[0m\n\u001b[0;32m      5\u001b[0m \u001b[1;32mclass\u001b[0m \u001b[0mHealthBot\u001b[0m\u001b[1;33m:\u001b[0m\u001b[1;33m\u001b[0m\u001b[1;33m\u001b[0m\u001b[0m\n",
      "\u001b[1;31mModuleNotFoundError\u001b[0m: No module named 'chatterbot'"
     ]
    },
    {
     "name": "stderr",
     "output_type": "stream",
     "text": [
      "  ERROR: Command errored out with exit status 1:\n",
      "   command: 'c:\\users\\shrey\\desktop\\102316057_ucs420\\asgn12\\as12env\\scripts\\python.exe' 'c:\\users\\shrey\\desktop\\102316057_ucs420\\asgn12\\as12env\\lib\\site-packages\\pip\\_vendor\\pep517\\_in_process.py' build_wheel 'C:\\Users\\shrey\\AppData\\Local\\Temp\\tmp3dsxw48v'\n",
      "       cwd: C:\\Users\\shrey\\AppData\\Local\\Temp\\pip-install-a9l481fo\\murmurhash\n",
      "  Complete output (22 lines):\n",
      "  running bdist_wheel\n",
      "  running build\n",
      "  running build_py\n",
      "  creating build\n",
      "  creating build\\lib.win-amd64-cpython-37\n",
      "  creating build\\lib.win-amd64-cpython-37\\murmurhash\n",
      "  copying murmurhash\\about.py -> build\\lib.win-amd64-cpython-37\\murmurhash\n",
      "  copying murmurhash\\__init__.py -> build\\lib.win-amd64-cpython-37\\murmurhash\n",
      "  creating build\\lib.win-amd64-cpython-37\\murmurhash\\tests\n",
      "  copying murmurhash\\tests\\test_hash.py -> build\\lib.win-amd64-cpython-37\\murmurhash\\tests\n",
      "  copying murmurhash\\tests\\test_import.py -> build\\lib.win-amd64-cpython-37\\murmurhash\\tests\n",
      "  copying murmurhash\\tests\\__init__.py -> build\\lib.win-amd64-cpython-37\\murmurhash\\tests\n",
      "  copying murmurhash\\mrmr.pyx -> build\\lib.win-amd64-cpython-37\\murmurhash\n",
      "  copying murmurhash\\mrmr.pxd -> build\\lib.win-amd64-cpython-37\\murmurhash\n",
      "  copying murmurhash\\__init__.pxd -> build\\lib.win-amd64-cpython-37\\murmurhash\n",
      "  creating build\\lib.win-amd64-cpython-37\\murmurhash\\include\n",
      "  creating build\\lib.win-amd64-cpython-37\\murmurhash\\include\\murmurhash\n",
      "  copying murmurhash\\include\\murmurhash\\MurmurHash2.h -> build\\lib.win-amd64-cpython-37\\murmurhash\\include\\murmurhash\n",
      "  copying murmurhash\\include\\murmurhash\\MurmurHash3.h -> build\\lib.win-amd64-cpython-37\\murmurhash\\include\\murmurhash\n",
      "  running build_ext\n",
      "  building 'murmurhash.mrmr' extension\n",
      "  error: Microsoft Visual C++ 14.0 or greater is required. Get it with \"Microsoft C++ Build Tools\": https://visualstudio.microsoft.com/visual-cpp-build-tools/\n",
      "  ----------------------------------------\n",
      "  ERROR: Failed building wheel for murmurhash\n",
      "  ERROR: Command errored out with exit status 1:\n",
      "   command: 'c:\\users\\shrey\\desktop\\102316057_ucs420\\asgn12\\as12env\\scripts\\python.exe' 'c:\\users\\shrey\\desktop\\102316057_ucs420\\asgn12\\as12env\\lib\\site-packages\\pip\\_vendor\\pep517\\_in_process.py' build_wheel 'C:\\Users\\shrey\\AppData\\Local\\Temp\\tmpxhfc2vwq'\n",
      "       cwd: C:\\Users\\shrey\\AppData\\Local\\Temp\\pip-install-a9l481fo\\cymem\n",
      "  Complete output (17 lines):\n",
      "  running bdist_wheel\n",
      "  running build\n",
      "  running build_py\n",
      "  creating build\n",
      "  creating build\\lib.win-amd64-cpython-37\n",
      "  creating build\\lib.win-amd64-cpython-37\\cymem\n",
      "  copying cymem\\about.py -> build\\lib.win-amd64-cpython-37\\cymem\n",
      "  copying cymem\\__init__.py -> build\\lib.win-amd64-cpython-37\\cymem\n",
      "  creating build\\lib.win-amd64-cpython-37\\cymem\\tests\n",
      "  copying cymem\\tests\\test_import.py -> build\\lib.win-amd64-cpython-37\\cymem\\tests\n",
      "  copying cymem\\tests\\__init__.py -> build\\lib.win-amd64-cpython-37\\cymem\\tests\n",
      "  copying cymem\\cymem.pyx -> build\\lib.win-amd64-cpython-37\\cymem\n",
      "  copying cymem\\cymem.pxd -> build\\lib.win-amd64-cpython-37\\cymem\n",
      "  copying cymem\\__init__.pxd -> build\\lib.win-amd64-cpython-37\\cymem\n",
      "  running build_ext\n",
      "  building 'cymem.cymem' extension\n",
      "  error: Microsoft Visual C++ 14.0 or greater is required. Get it with \"Microsoft C++ Build Tools\": https://visualstudio.microsoft.com/visual-cpp-build-tools/\n",
      "  ----------------------------------------\n",
      "  ERROR: Failed building wheel for cymem\n",
      "ERROR: Could not build wheels for murmurhash, cymem which use PEP 517 and cannot be installed directly\n",
      "WARNING: You are using pip version 20.1.1; however, version 24.0 is available.\n",
      "You should consider upgrading via the 'c:\\users\\shrey\\desktop\\102316057_ucs420\\asgn12\\as12env\\scripts\\python.exe -m pip install --upgrade pip' command.\n"
     ]
    },
    {
     "name": "stdout",
     "output_type": "stream",
     "text": [
      "Collecting chatterbot==1.0.5\n",
      "  Using cached ChatterBot-1.0.5-py2.py3-none-any.whl (67 kB)\n",
      "Requirement already satisfied: mathparse<0.2,>=0.1 in c:\\users\\shrey\\desktop\\102316057_ucs420\\asgn12\\as12env\\lib\\site-packages (from chatterbot==1.0.5) (0.1.2)\n",
      "Collecting sqlalchemy<1.3,>=1.2\n",
      "  Using cached SQLAlchemy-1.2.19.tar.gz (5.7 MB)\n",
      "Collecting pymongo<4.0,>=3.3\n",
      "  Using cached pymongo-3.13.0-cp37-cp37m-win_amd64.whl (394 kB)\n",
      "Collecting spacy<2.2,>=2.1\n",
      "  Using cached spacy-2.1.9-cp37-cp37m-win_amd64.whl (30.0 MB)\n",
      "Requirement already satisfied: pytz in c:\\users\\shrey\\desktop\\102316057_ucs420\\asgn12\\as12env\\lib\\site-packages (from chatterbot==1.0.5) (2025.2)\n",
      "Collecting pint>=0.8.1\n",
      "  Using cached Pint-0.18-py2.py3-none-any.whl (209 kB)\n",
      "Collecting pyyaml<5.2,>=5.1\n",
      "  Using cached PyYAML-5.1.2-cp37-cp37m-win_amd64.whl (215 kB)\n",
      "Collecting python-dateutil<2.8,>=2.7\n",
      "  Using cached python_dateutil-2.7.5-py2.py3-none-any.whl (225 kB)\n",
      "Collecting nltk<4.0,>=3.2\n",
      "  Using cached nltk-3.8.1-py3-none-any.whl (1.5 MB)\n",
      "Collecting requests<3.0.0,>=2.13.0\n",
      "  Using cached requests-2.31.0-py3-none-any.whl (62 kB)\n",
      "Collecting wasabi<1.1.0,>=0.2.0\n",
      "  Using cached wasabi-0.10.1-py3-none-any.whl (26 kB)\n",
      "Collecting thinc<7.1.0,>=7.0.8\n",
      "  Using cached thinc-7.0.8-cp37-cp37m-win_amd64.whl (1.9 MB)\n",
      "Collecting murmurhash<1.1.0,>=0.28.0\n",
      "  Using cached murmurhash-1.0.12.tar.gz (13 kB)\n",
      "  Installing build dependencies: started\n",
      "  Installing build dependencies: finished with status 'done'\n",
      "  Getting requirements to build wheel: started\n",
      "  Getting requirements to build wheel: finished with status 'done'\n",
      "  Installing backend dependencies: started\n",
      "  Installing backend dependencies: finished with status 'done'\n",
      "    Preparing wheel metadata: started\n",
      "    Preparing wheel metadata: finished with status 'done'\n",
      "Collecting plac<1.0.0,>=0.9.6\n",
      "  Using cached plac-0.9.6-py2.py3-none-any.whl (20 kB)\n",
      "Collecting srsly<1.1.0,>=0.0.6\n",
      "  Using cached srsly-1.0.7-cp37-cp37m-win_amd64.whl (357 kB)\n",
      "Collecting numpy>=1.15.0\n",
      "  Using cached numpy-1.21.6-cp37-cp37m-win_amd64.whl (14.0 MB)\n",
      "Collecting cymem<2.1.0,>=2.0.2\n",
      "  Using cached cymem-2.0.11.tar.gz (10 kB)\n",
      "  Installing build dependencies: started\n",
      "  Installing build dependencies: finished with status 'done'\n",
      "  Getting requirements to build wheel: started\n",
      "  Getting requirements to build wheel: finished with status 'done'\n",
      "  Installing backend dependencies: started\n",
      "  Installing backend dependencies: finished with status 'done'\n",
      "    Preparing wheel metadata: started\n",
      "    Preparing wheel metadata: finished with status 'done'\n",
      "Collecting blis<0.3.0,>=0.2.2\n",
      "  Using cached blis-0.2.4-cp37-cp37m-win_amd64.whl (3.1 MB)\n",
      "Collecting preshed<2.1.0,>=2.0.1\n",
      "  Using cached preshed-2.0.1-cp37-cp37m-win_amd64.whl (73 kB)\n",
      "Collecting packaging\n",
      "  Using cached packaging-24.0-py3-none-any.whl (53 kB)\n",
      "Collecting importlib-metadata; python_version < \"3.8\"\n",
      "  Using cached importlib_metadata-6.7.0-py3-none-any.whl (22 kB)\n",
      "Requirement already satisfied: six>=1.5 in c:\\users\\shrey\\desktop\\102316057_ucs420\\asgn12\\as12env\\lib\\site-packages (from python-dateutil<2.8,>=2.7->chatterbot==1.0.5) (1.17.0)\n",
      "Collecting regex>=2021.8.3\n",
      "  Using cached regex-2024.4.16-cp37-cp37m-win_amd64.whl (269 kB)\n",
      "Collecting joblib\n",
      "  Using cached joblib-1.3.2-py3-none-any.whl (302 kB)\n",
      "Collecting click\n",
      "  Using cached click-8.1.8-py3-none-any.whl (98 kB)\n",
      "Collecting tqdm\n",
      "  Using cached tqdm-4.67.1-py3-none-any.whl (78 kB)\n",
      "Collecting idna<4,>=2.5\n",
      "  Using cached idna-3.10-py3-none-any.whl (70 kB)\n",
      "Collecting urllib3<3,>=1.21.1\n",
      "  Using cached urllib3-2.0.7-py3-none-any.whl (124 kB)\n",
      "Collecting certifi>=2017.4.17\n",
      "  Using cached certifi-2025.4.26-py3-none-any.whl (159 kB)\n",
      "Collecting charset-normalizer<4,>=2\n",
      "  Using cached charset_normalizer-3.4.1-cp37-cp37m-win_amd64.whl (100 kB)\n",
      "Collecting typing-extensions>=3.6.4; python_version < \"3.8\"\n",
      "  Using cached typing_extensions-4.7.1-py3-none-any.whl (33 kB)\n",
      "Collecting zipp>=0.5\n",
      "  Using cached zipp-3.15.0-py3-none-any.whl (6.8 kB)\n",
      "Collecting colorama; platform_system == \"Windows\"\n",
      "  Using cached colorama-0.4.6-py2.py3-none-any.whl (25 kB)\n",
      "Using legacy setup.py install for sqlalchemy, since package 'wheel' is not installed.\n",
      "Building wheels for collected packages: murmurhash, cymem\n",
      "  Building wheel for murmurhash (PEP 517): started\n",
      "  Building wheel for murmurhash (PEP 517): finished with status 'error'\n",
      "  Building wheel for cymem (PEP 517): started\n",
      "  Building wheel for cymem (PEP 517): finished with status 'error'\n",
      "Failed to build murmurhash cymem\n"
     ]
    },
    {
     "name": "stderr",
     "output_type": "stream",
     "text": [
      "  ERROR: Command errored out with exit status 1:\n",
      "   command: 'c:\\users\\shrey\\desktop\\102316057_ucs420\\asgn12\\as12env\\scripts\\python.exe' 'c:\\users\\shrey\\desktop\\102316057_ucs420\\asgn12\\as12env\\lib\\site-packages\\pip\\_vendor\\pep517\\_in_process.py' build_wheel 'C:\\Users\\shrey\\AppData\\Local\\Temp\\tmpiqnpcx0p'\n",
      "       cwd: C:\\Users\\shrey\\AppData\\Local\\Temp\\pip-install-huxsgyfr\\murmurhash\n",
      "  Complete output (22 lines):\n",
      "  running bdist_wheel\n",
      "  running build\n",
      "  running build_py\n",
      "  creating build\n",
      "  creating build\\lib.win-amd64-cpython-37\n",
      "  creating build\\lib.win-amd64-cpython-37\\murmurhash\n",
      "  copying murmurhash\\about.py -> build\\lib.win-amd64-cpython-37\\murmurhash\n",
      "  copying murmurhash\\__init__.py -> build\\lib.win-amd64-cpython-37\\murmurhash\n",
      "  creating build\\lib.win-amd64-cpython-37\\murmurhash\\tests\n",
      "  copying murmurhash\\tests\\test_hash.py -> build\\lib.win-amd64-cpython-37\\murmurhash\\tests\n",
      "  copying murmurhash\\tests\\test_import.py -> build\\lib.win-amd64-cpython-37\\murmurhash\\tests\n",
      "  copying murmurhash\\tests\\__init__.py -> build\\lib.win-amd64-cpython-37\\murmurhash\\tests\n",
      "  copying murmurhash\\mrmr.pyx -> build\\lib.win-amd64-cpython-37\\murmurhash\n",
      "  copying murmurhash\\mrmr.pxd -> build\\lib.win-amd64-cpython-37\\murmurhash\n",
      "  copying murmurhash\\__init__.pxd -> build\\lib.win-amd64-cpython-37\\murmurhash\n",
      "  creating build\\lib.win-amd64-cpython-37\\murmurhash\\include\n",
      "  creating build\\lib.win-amd64-cpython-37\\murmurhash\\include\\murmurhash\n",
      "  copying murmurhash\\include\\murmurhash\\MurmurHash2.h -> build\\lib.win-amd64-cpython-37\\murmurhash\\include\\murmurhash\n",
      "  copying murmurhash\\include\\murmurhash\\MurmurHash3.h -> build\\lib.win-amd64-cpython-37\\murmurhash\\include\\murmurhash\n",
      "  running build_ext\n",
      "  building 'murmurhash.mrmr' extension\n",
      "  error: Microsoft Visual C++ 14.0 or greater is required. Get it with \"Microsoft C++ Build Tools\": https://visualstudio.microsoft.com/visual-cpp-build-tools/\n",
      "  ----------------------------------------\n",
      "  ERROR: Failed building wheel for murmurhash\n",
      "  ERROR: Command errored out with exit status 1:\n",
      "   command: 'c:\\users\\shrey\\desktop\\102316057_ucs420\\asgn12\\as12env\\scripts\\python.exe' 'c:\\users\\shrey\\desktop\\102316057_ucs420\\asgn12\\as12env\\lib\\site-packages\\pip\\_vendor\\pep517\\_in_process.py' build_wheel 'C:\\Users\\shrey\\AppData\\Local\\Temp\\tmpzbnj5iez'\n",
      "       cwd: C:\\Users\\shrey\\AppData\\Local\\Temp\\pip-install-huxsgyfr\\cymem\n",
      "  Complete output (17 lines):\n",
      "  running bdist_wheel\n",
      "  running build\n",
      "  running build_py\n",
      "  creating build\n",
      "  creating build\\lib.win-amd64-cpython-37\n",
      "  creating build\\lib.win-amd64-cpython-37\\cymem\n",
      "  copying cymem\\about.py -> build\\lib.win-amd64-cpython-37\\cymem\n",
      "  copying cymem\\__init__.py -> build\\lib.win-amd64-cpython-37\\cymem\n",
      "  creating build\\lib.win-amd64-cpython-37\\cymem\\tests\n",
      "  copying cymem\\tests\\test_import.py -> build\\lib.win-amd64-cpython-37\\cymem\\tests\n",
      "  copying cymem\\tests\\__init__.py -> build\\lib.win-amd64-cpython-37\\cymem\\tests\n",
      "  copying cymem\\cymem.pyx -> build\\lib.win-amd64-cpython-37\\cymem\n",
      "  copying cymem\\cymem.pxd -> build\\lib.win-amd64-cpython-37\\cymem\n",
      "  copying cymem\\__init__.pxd -> build\\lib.win-amd64-cpython-37\\cymem\n",
      "  running build_ext\n",
      "  building 'cymem.cymem' extension\n",
      "  error: Microsoft Visual C++ 14.0 or greater is required. Get it with \"Microsoft C++ Build Tools\": https://visualstudio.microsoft.com/visual-cpp-build-tools/\n",
      "  ----------------------------------------\n",
      "  ERROR: Failed building wheel for cymem\n",
      "ERROR: Could not build wheels for murmurhash, cymem which use PEP 517 and cannot be installed directly\n",
      "WARNING: You are using pip version 20.1.1; however, version 24.0 is available.\n",
      "You should consider upgrading via the 'c:\\users\\shrey\\desktop\\102316057_ucs420\\asgn12\\as12env\\scripts\\python.exe -m pip install --upgrade pip' command.\n"
     ]
    },
    {
     "name": "stdout",
     "output_type": "stream",
     "text": [
      "Collecting chatterbot==1.0.5\n",
      "  Using cached ChatterBot-1.0.5-py2.py3-none-any.whl (67 kB)\n",
      "Requirement already satisfied: mathparse<0.2,>=0.1 in c:\\users\\shrey\\desktop\\102316057_ucs420\\asgn12\\as12env\\lib\\site-packages (from chatterbot==1.0.5) (0.1.2)\n",
      "Collecting python-dateutil<2.8,>=2.7\n",
      "  Using cached python_dateutil-2.7.5-py2.py3-none-any.whl (225 kB)\n",
      "Collecting pymongo<4.0,>=3.3\n",
      "  Using cached pymongo-3.13.0-cp37-cp37m-win_amd64.whl (394 kB)\n",
      "Collecting sqlalchemy<1.3,>=1.2\n",
      "  Using cached SQLAlchemy-1.2.19.tar.gz (5.7 MB)\n",
      "Collecting spacy<2.2,>=2.1\n",
      "  Using cached spacy-2.1.9-cp37-cp37m-win_amd64.whl (30.0 MB)\n",
      "Collecting nltk<4.0,>=3.2\n",
      "  Using cached nltk-3.8.1-py3-none-any.whl (1.5 MB)\n",
      "Requirement already satisfied: pytz in c:\\users\\shrey\\desktop\\102316057_ucs420\\asgn12\\as12env\\lib\\site-packages (from chatterbot==1.0.5) (2025.2)\n",
      "Collecting pint>=0.8.1\n",
      "  Using cached Pint-0.18-py2.py3-none-any.whl (209 kB)\n",
      "Collecting pyyaml<5.2,>=5.1\n",
      "  Using cached PyYAML-5.1.2-cp37-cp37m-win_amd64.whl (215 kB)\n",
      "Requirement already satisfied: six>=1.5 in c:\\users\\shrey\\desktop\\102316057_ucs420\\asgn12\\as12env\\lib\\site-packages (from python-dateutil<2.8,>=2.7->chatterbot==1.0.5) (1.17.0)\n",
      "Collecting preshed<2.1.0,>=2.0.1\n",
      "  Using cached preshed-2.0.1-cp37-cp37m-win_amd64.whl (73 kB)\n",
      "Collecting plac<1.0.0,>=0.9.6\n",
      "  Using cached plac-0.9.6-py2.py3-none-any.whl (20 kB)\n",
      "Collecting numpy>=1.15.0\n",
      "  Downloading numpy-1.21.6-cp37-cp37m-win_amd64.whl (14.0 MB)\n",
      "Collecting thinc<7.1.0,>=7.0.8\n",
      "  Using cached thinc-7.0.8-cp37-cp37m-win_amd64.whl (1.9 MB)\n",
      "Collecting wasabi<1.1.0,>=0.2.0\n",
      "  Using cached wasabi-0.10.1-py3-none-any.whl (26 kB)\n",
      "Collecting requests<3.0.0,>=2.13.0\n",
      "  Using cached requests-2.31.0-py3-none-any.whl (62 kB)\n",
      "Collecting srsly<1.1.0,>=0.0.6\n",
      "  Using cached srsly-1.0.7-cp37-cp37m-win_amd64.whl (357 kB)\n",
      "Collecting murmurhash<1.1.0,>=0.28.0\n",
      "  Using cached murmurhash-1.0.12.tar.gz (13 kB)\n",
      "  Installing build dependencies: started\n",
      "  Installing build dependencies: finished with status 'done'\n",
      "  Getting requirements to build wheel: started\n",
      "  Getting requirements to build wheel: finished with status 'done'\n",
      "  Installing backend dependencies: started\n",
      "  Installing backend dependencies: finished with status 'done'\n",
      "    Preparing wheel metadata: started\n",
      "    Preparing wheel metadata: finished with status 'done'\n",
      "Collecting blis<0.3.0,>=0.2.2\n",
      "  Using cached blis-0.2.4-cp37-cp37m-win_amd64.whl (3.1 MB)\n",
      "Collecting cymem<2.1.0,>=2.0.2\n",
      "  Using cached cymem-2.0.11.tar.gz (10 kB)\n",
      "  Installing build dependencies: started\n",
      "  Installing build dependencies: finished with status 'done'\n",
      "  Getting requirements to build wheel: started\n",
      "  Getting requirements to build wheel: finished with status 'done'\n",
      "  Installing backend dependencies: started\n",
      "  Installing backend dependencies: finished with status 'done'\n",
      "    Preparing wheel metadata: started\n",
      "    Preparing wheel metadata: finished with status 'done'\n",
      "Collecting tqdm\n",
      "  Using cached tqdm-4.67.1-py3-none-any.whl (78 kB)\n",
      "Collecting click\n",
      "  Using cached click-8.1.8-py3-none-any.whl (98 kB)\n",
      "Collecting joblib\n",
      "  Using cached joblib-1.3.2-py3-none-any.whl (302 kB)\n",
      "Collecting regex>=2021.8.3\n",
      "  Using cached regex-2024.4.16-cp37-cp37m-win_amd64.whl (269 kB)\n",
      "Collecting packaging\n",
      "  Using cached packaging-24.0-py3-none-any.whl (53 kB)\n",
      "Collecting importlib-metadata; python_version < \"3.8\"\n",
      "  Using cached importlib_metadata-6.7.0-py3-none-any.whl (22 kB)\n",
      "Collecting certifi>=2017.4.17\n",
      "  Using cached certifi-2025.4.26-py3-none-any.whl (159 kB)\n",
      "Collecting urllib3<3,>=1.21.1\n",
      "  Using cached urllib3-2.0.7-py3-none-any.whl (124 kB)\n",
      "Collecting charset-normalizer<4,>=2\n",
      "  Using cached charset_normalizer-3.4.1-cp37-cp37m-win_amd64.whl (100 kB)\n",
      "Collecting idna<4,>=2.5\n",
      "  Using cached idna-3.10-py3-none-any.whl (70 kB)\n",
      "Collecting colorama; platform_system == \"Windows\"\n",
      "  Using cached colorama-0.4.6-py2.py3-none-any.whl (25 kB)\n",
      "Collecting typing-extensions>=3.6.4; python_version < \"3.8\"\n",
      "  Using cached typing_extensions-4.7.1-py3-none-any.whl (33 kB)\n",
      "Collecting zipp>=0.5\n",
      "  Using cached zipp-3.15.0-py3-none-any.whl (6.8 kB)\n",
      "Using legacy setup.py install for sqlalchemy, since package 'wheel' is not installed.\n",
      "Building wheels for collected packages: murmurhash, cymem\n",
      "  Building wheel for murmurhash (PEP 517): started\n",
      "  Building wheel for murmurhash (PEP 517): finished with status 'error'\n",
      "  Building wheel for cymem (PEP 517): started\n",
      "  Building wheel for cymem (PEP 517): finished with status 'error'\n",
      "Failed to build murmurhash cymem\n"
     ]
    }
   ],
   "source": [
    "from chatterbot import ChatBot\n",
    "from chatterbot.trainers import ChatterBotCorpusTrainer\n",
    "import re\n",
    "\n",
    "class HealthBot:\n",
    "    def __init__(self):\n",
    "        self.medical_responses = {\n",
    "            r'hi|hello|hey': 'Hello! I am HealthBot. How can I assist you today?',\n",
    "            r'headache': 'You should rest, stay hydrated, and take a mild pain reliever if needed.',\n",
    "            r'fever': 'Drink plenty of fluids and rest. If the fever persists, please consult a doctor.',\n",
    "            r'dizzy': 'Sit down, breathe deeply, and drink water. If it continues, seek medical help.',\n",
    "            r'cold': 'Warm fluids, soups, citrus fruits, and light meals help during a cold.',\n",
    "            r'stay healthy|healthy': 'Eat balanced meals, exercise regularly, stay hydrated, and get enough sleep.',\n",
    "            r'cut': 'Clean the wound with water, apply antiseptic, and cover it with a clean bandage.',\n",
    "            r'water|hydrate': 'Generally, 2 to 3 liters per day is recommended, but it varies based on your activity.',\n",
    "            r'thank': \"You're welcome! Take care.\",\n",
    "            r'bye|goodbye': 'Goodbye! Stay healthy.'\n",
    "        }\n",
    "        \n",
    "        self.general_bot = ChatBot('GeneralBot')\n",
    "        trainer = ChatterBotCorpusTrainer(self.general_bot)\n",
    "        trainer.train(\"chatterbot.corpus.english\")\n",
    "        \n",
    "    def respond(self, user_input):\n",
    "        user_input_lower = user_input.lower()\n",
    "        for pattern, response in self.medical_responses.items():\n",
    "            if re.search(pattern, user_input_lower):\n",
    "                return response\n",
    "        \n",
    "        return str(self.general_bot.get_response(user_input))\n",
    "\n",
    "def main():\n",
    "    bot = HealthBot()\n",
    "    print(\"HealthBot: Hello! I'm HealthBot, your healthcare assistant. Type 'bye' to exit.\")\n",
    "    \n",
    "    while True:\n",
    "        try:\n",
    "            user_input = input(\"You: \")\n",
    "            if user_input.lower() in ['bye', 'goodbye', 'exit']:\n",
    "                print(\"HealthBot:\", bot.respond(user_input))\n",
    "                break\n",
    "            response = bot.respond(user_input)\n",
    "            print(\"HealthBot:\", response)\n",
    "        except (KeyboardInterrupt, EOFError):\n",
    "            print(\"\\nHealthBot: Goodbye! Stay healthy.\")\n",
    "            break\n",
    "\n",
    "if __name__ == \"__main__\":\n",
    "    main()"
   ]
  }
 ],
 "metadata": {
  "kernelspec": {
   "display_name": "as12env",
   "language": "python",
   "name": "python3"
  },
  "language_info": {
   "codemirror_mode": {
    "name": "ipython",
    "version": 3
   },
   "file_extension": ".py",
   "mimetype": "text/x-python",
   "name": "python",
   "nbconvert_exporter": "python",
   "pygments_lexer": "ipython3",
   "version": "3.7.9"
  }
 },
 "nbformat": 4,
 "nbformat_minor": 5
}
